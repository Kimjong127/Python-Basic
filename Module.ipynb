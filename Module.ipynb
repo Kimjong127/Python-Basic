{
 "cells": [
  {
   "cell_type": "markdown",
   "id": "c46d02bc-0fea-4425-ae7c-bd6645f72fcc",
   "metadata": {},
   "source": [
    "# module"
   ]
  },
  {
   "cell_type": "code",
   "execution_count": 2,
   "id": "d6ade4b4-447d-4559-8099-38f11109687e",
   "metadata": {},
   "outputs": [],
   "source": [
    "import sys"
   ]
  },
  {
   "cell_type": "code",
   "execution_count": 3,
   "id": "a23dda1b-be2c-48a6-9a78-f2ba9e7b25f0",
   "metadata": {},
   "outputs": [
    {
     "data": {
      "text/plain": [
       "['C:\\\\Users\\\\kkimj\\\\jupyter-work',\n",
       " 'C:\\\\Users\\\\kkimj\\\\.pyenv\\\\pyenv-win\\\\versions\\\\3.10.7\\\\python310.zip',\n",
       " 'C:\\\\Users\\\\kkimj\\\\.pyenv\\\\pyenv-win\\\\versions\\\\3.10.7\\\\DLLs',\n",
       " 'C:\\\\Users\\\\kkimj\\\\.pyenv\\\\pyenv-win\\\\versions\\\\3.10.7\\\\lib',\n",
       " 'C:\\\\Users\\\\kkimj\\\\.pyenv\\\\pyenv-win\\\\versions\\\\3.10.7',\n",
       " 'C:\\\\Users\\\\kkimj\\\\.venv\\\\practice1',\n",
       " '',\n",
       " 'C:\\\\Users\\\\kkimj\\\\.venv\\\\practice1\\\\lib\\\\site-packages',\n",
       " 'C:\\\\Users\\\\kkimj\\\\.venv\\\\practice1\\\\lib\\\\site-packages\\\\win32',\n",
       " 'C:\\\\Users\\\\kkimj\\\\.venv\\\\practice1\\\\lib\\\\site-packages\\\\win32\\\\lib',\n",
       " 'C:\\\\Users\\\\kkimj\\\\.venv\\\\practice1\\\\lib\\\\site-packages\\\\Pythonwin']"
      ]
     },
     "execution_count": 3,
     "metadata": {},
     "output_type": "execute_result"
    }
   ],
   "source": [
    "sys.path"
   ]
  },
  {
   "cell_type": "code",
   "execution_count": 4,
   "id": "a9009a20-2ff6-4c6a-b90a-572e3711e9b6",
   "metadata": {},
   "outputs": [],
   "source": [
    "import os"
   ]
  },
  {
   "cell_type": "code",
   "execution_count": 6,
   "id": "5deda0b0-6b9b-4031-b2f8-a07e8eb927c9",
   "metadata": {
    "tags": []
   },
   "outputs": [
    {
     "data": {
      "text/plain": [
       "'C:\\\\Users\\\\kkimj\\\\.venv\\\\practice1\\\\Scripts;C:\\\\WINDOWS\\\\system32;C:\\\\WINDOWS;C:\\\\WINDOWS\\\\System32\\\\Wbem;C:\\\\WINDOWS\\\\System32\\\\WindowsPowerShell\\\\v1.0\\\\;C:\\\\WINDOWS\\\\System32\\\\OpenSSH\\\\;C:\\\\Program Files (x86)\\\\NVIDIA Corporation\\\\PhysX\\\\Common;C:\\\\Program Files\\\\NVIDIA Corporation\\\\NVIDIA NvDLISR;C:\\\\Users\\\\kkimj\\\\.pyenv\\\\pyenv-win\\\\bin;C:\\\\Users\\\\kkimj\\\\.pyenv\\\\pyenv-win\\\\shims;C:\\\\Users\\\\kkimj\\\\AppData\\\\Local\\\\Microsoft\\\\WindowsApps;'"
      ]
     },
     "execution_count": 6,
     "metadata": {},
     "output_type": "execute_result"
    }
   ],
   "source": [
    "os.environ['PATH']"
   ]
  },
  {
   "cell_type": "code",
   "execution_count": 7,
   "id": "7d9cfaaf-8923-4098-b240-c63dcbb2b285",
   "metadata": {},
   "outputs": [],
   "source": [
    "import sys as system"
   ]
  },
  {
   "cell_type": "code",
   "execution_count": 8,
   "id": "1550477f-e159-4cb3-abed-3d5ce48fa3a2",
   "metadata": {},
   "outputs": [
    {
     "data": {
      "text/plain": [
       "module"
      ]
     },
     "execution_count": 8,
     "metadata": {},
     "output_type": "execute_result"
    }
   ],
   "source": [
    "type(system)"
   ]
  },
  {
   "cell_type": "code",
   "execution_count": null,
   "id": "9ae3b5e4-90fc-425f-9fba-8a90eb7c7249",
   "metadata": {},
   "outputs": [],
   "source": [
    "system.audit"
   ]
  },
  {
   "cell_type": "code",
   "execution_count": null,
   "id": "ff2332cc-573e-401c-875a-73a02a535bba",
   "metadata": {},
   "outputs": [],
   "source": []
  },
  {
   "cell_type": "markdown",
   "id": "957c6b53-e7b8-4f1c-bc61-031970711a48",
   "metadata": {},
   "source": [
    "# 간단한 모듈"
   ]
  },
  {
   "cell_type": "code",
   "execution_count": 41,
   "id": "4f632cfc-9592-4554-b90b-9f6d22b61c5d",
   "metadata": {
    "tags": []
   },
   "outputs": [
    {
     "name": "stdout",
     "output_type": "stream",
     "text": [
      "Overwriting mod1.py\n"
     ]
    }
   ],
   "source": [
    "%%writefile mod1.py\n",
    "# mod1 모듈 생성\n",
    "def add(a, b):\n",
    "    return a+b\n",
    "def sub(a, b):\n",
    "    return a-b"
   ]
  },
  {
   "cell_type": "code",
   "execution_count": 10,
   "id": "759c3d0d-85be-4d61-8dfe-34c9e5270cfb",
   "metadata": {
    "tags": []
   },
   "outputs": [
    {
     "data": {
      "text/plain": [
       "\u001b[1;31m# mod1 모듈\u001b[0m\u001b[1;33m\n",
       "\u001b[0m\u001b[1;32mdef\u001b[0m \u001b[0madd\u001b[0m\u001b[1;33m(\u001b[0m\u001b[0ma\u001b[0m\u001b[1;33m,\u001b[0m \u001b[0mb\u001b[0m\u001b[1;33m)\u001b[0m\u001b[1;33m:\u001b[0m\u001b[1;33m\n",
       "\u001b[0m    \u001b[1;32mreturn\u001b[0m \u001b[0ma\u001b[0m\u001b[1;33m+\u001b[0m\u001b[0mb\u001b[0m\u001b[1;33m\n",
       "\u001b[0m\u001b[1;32mdef\u001b[0m \u001b[0msub\u001b[0m\u001b[1;33m(\u001b[0m\u001b[0ma\u001b[0m\u001b[1;33m,\u001b[0m \u001b[0mb\u001b[0m\u001b[1;33m)\u001b[0m\u001b[1;33m:\u001b[0m\u001b[1;33m\n",
       "\u001b[0m    \u001b[1;32mreturn\u001b[0m \u001b[0ma\u001b[0m\u001b[1;33m-\u001b[0m\u001b[0mb\u001b[0m\u001b[1;33m\u001b[0m\u001b[1;33m\u001b[0m\u001b[0m\n"
      ]
     },
     "metadata": {},
     "output_type": "display_data"
    }
   ],
   "source": [
    "%pycat mod1.py"
   ]
  },
  {
   "cell_type": "code",
   "execution_count": 12,
   "id": "721a9c25-3c17-4aa7-8e56-5af916020693",
   "metadata": {},
   "outputs": [],
   "source": [
    "import mod1"
   ]
  },
  {
   "cell_type": "code",
   "execution_count": 13,
   "id": "2b1e9eaf-f470-499c-bd46-18d8c96c5736",
   "metadata": {},
   "outputs": [
    {
     "data": {
      "text/plain": [
       "module"
      ]
     },
     "execution_count": 13,
     "metadata": {},
     "output_type": "execute_result"
    }
   ],
   "source": [
    "type(mod1)"
   ]
  },
  {
   "cell_type": "markdown",
   "id": "773b3139-4afe-43b0-9067-f975e483e221",
   "metadata": {},
   "source": [
    "```.``` 연산자로 모듈 안의 객체 접근"
   ]
  },
  {
   "cell_type": "code",
   "execution_count": 14,
   "id": "0f7194eb-f09d-4be5-91d5-232d99f82b68",
   "metadata": {},
   "outputs": [
    {
     "data": {
      "text/plain": [
       "30"
      ]
     },
     "execution_count": 14,
     "metadata": {},
     "output_type": "execute_result"
    }
   ],
   "source": [
    "mod1.add(10, 20)"
   ]
  },
  {
   "cell_type": "code",
   "execution_count": 15,
   "id": "a078ba9a-c1a2-468d-941a-320c3186f186",
   "metadata": {},
   "outputs": [
    {
     "data": {
      "text/plain": [
       "19"
      ]
     },
     "execution_count": 15,
     "metadata": {},
     "output_type": "execute_result"
    }
   ],
   "source": [
    "mod1.sub(20, 1)"
   ]
  },
  {
   "cell_type": "markdown",
   "id": "efcb6dab-b361-42ec-95c4-2fcaee9f83ce",
   "metadata": {},
   "source": [
    "as 사용"
   ]
  },
  {
   "cell_type": "code",
   "execution_count": 16,
   "id": "9a5741ad-9dce-4e6b-a2e9-1e91da5103a2",
   "metadata": {},
   "outputs": [],
   "source": [
    "import mod1 as md1"
   ]
  },
  {
   "cell_type": "code",
   "execution_count": 17,
   "id": "9ac224bf-792c-40aa-9680-cd6a4c609b74",
   "metadata": {},
   "outputs": [
    {
     "data": {
      "text/plain": [
       "30"
      ]
     },
     "execution_count": 17,
     "metadata": {},
     "output_type": "execute_result"
    }
   ],
   "source": [
    "md1.add(10, 20)"
   ]
  },
  {
   "cell_type": "code",
   "execution_count": 18,
   "id": "d53a3b77-8a93-4196-bd86-efabd5e90777",
   "metadata": {},
   "outputs": [
    {
     "data": {
      "text/plain": [
       "17"
      ]
     },
     "execution_count": 18,
     "metadata": {},
     "output_type": "execute_result"
    }
   ],
   "source": [
    "md1.sub(20, 3)"
   ]
  },
  {
   "cell_type": "code",
   "execution_count": 19,
   "id": "78b8f69a-8e53-4328-8180-d3d7adc55a45",
   "metadata": {},
   "outputs": [],
   "source": [
    "del md1"
   ]
  },
  {
   "cell_type": "markdown",
   "id": "3f4a3614-ed6f-4090-8a78-685601ce52cd",
   "metadata": {},
   "source": [
    "```*``` 사용"
   ]
  },
  {
   "cell_type": "code",
   "execution_count": 21,
   "id": "797e9ffd-8571-498b-bf02-0bfc829a7c62",
   "metadata": {},
   "outputs": [],
   "source": [
    "from mod1 import *"
   ]
  },
  {
   "cell_type": "code",
   "execution_count": 22,
   "id": "6bd54b0d-64bd-4195-958c-f3f5ccc0c5a1",
   "metadata": {},
   "outputs": [
    {
     "data": {
      "text/plain": [
       "12"
      ]
     },
     "execution_count": 22,
     "metadata": {},
     "output_type": "execute_result"
    }
   ],
   "source": [
    "add(10, 2)"
   ]
  },
  {
   "cell_type": "code",
   "execution_count": 23,
   "id": "335bcb1f-d93f-4a51-a526-b43ce5a5d3d1",
   "metadata": {},
   "outputs": [
    {
     "data": {
      "text/plain": [
       "17"
      ]
     },
     "execution_count": 23,
     "metadata": {},
     "output_type": "execute_result"
    }
   ],
   "source": [
    "sub(20, 3)"
   ]
  },
  {
   "cell_type": "code",
   "execution_count": 24,
   "id": "75f5e4f3-c65c-4961-a03c-368d124cdbd8",
   "metadata": {},
   "outputs": [],
   "source": [
    "from mod1 import add, sub"
   ]
  },
  {
   "cell_type": "code",
   "execution_count": null,
   "id": "147da10b-41d1-4b82-83d4-e7320dcb9a1d",
   "metadata": {},
   "outputs": [],
   "source": []
  },
  {
   "cell_type": "markdown",
   "id": "be7c88c0-2917-4a79-a79f-4879383d43b2",
   "metadata": {},
   "source": [
    "# 모듈의 객체 이름"
   ]
  },
  {
   "cell_type": "code",
   "execution_count": 25,
   "id": "10447d28-baee-4cdf-9c1d-eb003686f126",
   "metadata": {
    "tags": []
   },
   "outputs": [
    {
     "name": "stdout",
     "output_type": "stream",
     "text": [
      "Writing mod2.py\n"
     ]
    }
   ],
   "source": [
    "%%writefile mod2.py\n",
    "# mod2 모듈\n",
    "title = None\n",
    "\n",
    "def add(a, b):\n",
    "    return a+b\n",
    "def sub(a, b):\n",
    "    return a-b"
   ]
  },
  {
   "cell_type": "code",
   "execution_count": 26,
   "id": "8b3ece4e-38ee-4936-9459-14e382e85b12",
   "metadata": {
    "tags": []
   },
   "outputs": [
    {
     "data": {
      "text/plain": [
       "\u001b[1;31m# mod2 모듈\u001b[0m\u001b[1;33m\n",
       "\u001b[0m\u001b[0mtitle\u001b[0m \u001b[1;33m=\u001b[0m \u001b[1;32mNone\u001b[0m\u001b[1;33m\n",
       "\u001b[0m\u001b[1;33m\n",
       "\u001b[0m\u001b[1;32mdef\u001b[0m \u001b[0madd\u001b[0m\u001b[1;33m(\u001b[0m\u001b[0ma\u001b[0m\u001b[1;33m,\u001b[0m \u001b[0mb\u001b[0m\u001b[1;33m)\u001b[0m\u001b[1;33m:\u001b[0m\u001b[1;33m\n",
       "\u001b[0m    \u001b[1;32mreturn\u001b[0m \u001b[0ma\u001b[0m\u001b[1;33m+\u001b[0m\u001b[0mb\u001b[0m\u001b[1;33m\n",
       "\u001b[0m\u001b[1;32mdef\u001b[0m \u001b[0msub\u001b[0m\u001b[1;33m(\u001b[0m\u001b[0ma\u001b[0m\u001b[1;33m,\u001b[0m \u001b[0mb\u001b[0m\u001b[1;33m)\u001b[0m\u001b[1;33m:\u001b[0m\u001b[1;33m\n",
       "\u001b[0m    \u001b[1;32mreturn\u001b[0m \u001b[0ma\u001b[0m\u001b[1;33m-\u001b[0m\u001b[0mb\u001b[0m\u001b[1;33m\u001b[0m\u001b[1;33m\u001b[0m\u001b[0m\n"
      ]
     },
     "metadata": {},
     "output_type": "display_data"
    }
   ],
   "source": [
    "%pycat mod2.py"
   ]
  },
  {
   "cell_type": "code",
   "execution_count": 27,
   "id": "73dc24bc-3b94-4bdf-881f-a78366023bdb",
   "metadata": {},
   "outputs": [],
   "source": [
    "from mod2 import title, add, sub"
   ]
  },
  {
   "cell_type": "code",
   "execution_count": 28,
   "id": "2fab4a18-8acf-4fce-835c-1ae40f448fd9",
   "metadata": {},
   "outputs": [],
   "source": [
    "title"
   ]
  },
  {
   "cell_type": "code",
   "execution_count": 29,
   "id": "48554957-c4d2-4f6f-a9aa-fcc8b253ff77",
   "metadata": {},
   "outputs": [
    {
     "data": {
      "text/plain": [
       "30"
      ]
     },
     "execution_count": 29,
     "metadata": {},
     "output_type": "execute_result"
    }
   ],
   "source": [
    "add(10, 20)"
   ]
  },
  {
   "cell_type": "code",
   "execution_count": null,
   "id": "4c2f7cf6-e929-49a5-80c4-6e48e00feba0",
   "metadata": {},
   "outputs": [],
   "source": []
  },
  {
   "cell_type": "markdown",
   "id": "64de4410-8154-4cb5-a662-276e6732f870",
   "metadata": {},
   "source": [
    "# `__main__`"
   ]
  },
  {
   "cell_type": "code",
   "execution_count": 31,
   "id": "84b22d2a-de57-45aa-a66f-b3f8d8bb589b",
   "metadata": {},
   "outputs": [],
   "source": [
    "import mod1"
   ]
  },
  {
   "cell_type": "code",
   "execution_count": 32,
   "id": "720a773f-61c5-4aff-ae93-c6cd9f720f72",
   "metadata": {},
   "outputs": [
    {
     "data": {
      "text/plain": [
       "['__builtins__',\n",
       " '__cached__',\n",
       " '__doc__',\n",
       " '__file__',\n",
       " '__loader__',\n",
       " '__name__',\n",
       " '__package__',\n",
       " '__spec__',\n",
       " 'add',\n",
       " 'sub']"
      ]
     },
     "execution_count": 32,
     "metadata": {},
     "output_type": "execute_result"
    }
   ],
   "source": [
    "dir(mod1)"
   ]
  },
  {
   "cell_type": "code",
   "execution_count": 33,
   "id": "a882c2d6-63f9-4cf6-a780-a072770ffe9f",
   "metadata": {},
   "outputs": [
    {
     "data": {
      "text/plain": [
       "''"
      ]
     },
     "execution_count": 33,
     "metadata": {},
     "output_type": "execute_result"
    }
   ],
   "source": [
    "mod1.__package__"
   ]
  },
  {
   "cell_type": "code",
   "execution_count": 34,
   "id": "540393f4-e219-4dea-9e71-835906d239de",
   "metadata": {},
   "outputs": [
    {
     "data": {
      "text/plain": [
       "'mod1'"
      ]
     },
     "execution_count": 34,
     "metadata": {},
     "output_type": "execute_result"
    }
   ],
   "source": [
    "mod1.__name__"
   ]
  },
  {
   "cell_type": "code",
   "execution_count": null,
   "id": "eb2f44d4-8abb-44f2-8161-03b05e765cba",
   "metadata": {},
   "outputs": [],
   "source": []
  },
  {
   "cell_type": "code",
   "execution_count": 35,
   "id": "cc3a6d81-3594-4004-b161-8921b891ce91",
   "metadata": {},
   "outputs": [],
   "source": [
    "def test():\n",
    "    pass"
   ]
  },
  {
   "cell_type": "code",
   "execution_count": 36,
   "id": "8e115edf-f384-4b53-90e3-6dd988b67397",
   "metadata": {},
   "outputs": [
    {
     "data": {
      "text/plain": [
       "<function __main__.test()>"
      ]
     },
     "execution_count": 36,
     "metadata": {},
     "output_type": "execute_result"
    }
   ],
   "source": [
    "test"
   ]
  },
  {
   "cell_type": "code",
   "execution_count": 48,
   "id": "d93d2974-e134-4634-8eaf-4d7ca1554d65",
   "metadata": {
    "tags": []
   },
   "outputs": [
    {
     "name": "stdout",
     "output_type": "stream",
     "text": [
      "Overwriting mod1.py\n"
     ]
    }
   ],
   "source": [
    "%%writefile mod1.py\n",
    "\n",
    "def add(a, b):\n",
    "    return a+b\n",
    "def sub(a, b):\n",
    "    return a-b\n",
    "\n",
    "print(add(1, 4))\n",
    "print(sub(4, 2))"
   ]
  },
  {
   "cell_type": "code",
   "execution_count": 44,
   "id": "4044b878-d7a5-4019-a47b-269681f750c2",
   "metadata": {
    "tags": []
   },
   "outputs": [
    {
     "data": {
      "text/plain": [
       "\u001b[1;33m\n",
       "\u001b[0m\u001b[1;32mdef\u001b[0m \u001b[0madd\u001b[0m\u001b[1;33m(\u001b[0m\u001b[0ma\u001b[0m\u001b[1;33m,\u001b[0m \u001b[0mb\u001b[0m\u001b[1;33m)\u001b[0m\u001b[1;33m:\u001b[0m\u001b[1;33m\n",
       "\u001b[0m    \u001b[1;32mreturn\u001b[0m \u001b[0ma\u001b[0m\u001b[1;33m+\u001b[0m\u001b[0mb\u001b[0m\u001b[1;33m\n",
       "\u001b[0m\u001b[1;32mdef\u001b[0m \u001b[0msub\u001b[0m\u001b[1;33m(\u001b[0m\u001b[0ma\u001b[0m\u001b[1;33m,\u001b[0m \u001b[0mb\u001b[0m\u001b[1;33m)\u001b[0m\u001b[1;33m:\u001b[0m\u001b[1;33m\n",
       "\u001b[0m    \u001b[1;32mreturn\u001b[0m \u001b[0ma\u001b[0m\u001b[1;33m-\u001b[0m\u001b[0mb\u001b[0m\u001b[1;33m\n",
       "\u001b[0m\u001b[1;33m\n",
       "\u001b[0m\u001b[0mprint\u001b[0m\u001b[1;33m(\u001b[0m\u001b[0madd\u001b[0m\u001b[1;33m(\u001b[0m\u001b[1;36m1\u001b[0m\u001b[1;33m,\u001b[0m \u001b[1;36m4\u001b[0m\u001b[1;33m)\u001b[0m\u001b[1;33m)\u001b[0m\u001b[1;33m\n",
       "\u001b[0m\u001b[0mprint\u001b[0m\u001b[1;33m(\u001b[0m\u001b[0msub\u001b[0m\u001b[1;33m(\u001b[0m\u001b[1;36m4\u001b[0m\u001b[1;33m,\u001b[0m \u001b[1;36m2\u001b[0m\u001b[1;33m)\u001b[0m\u001b[1;33m)\u001b[0m\u001b[1;33m\u001b[0m\u001b[1;33m\u001b[0m\u001b[0m\n"
      ]
     },
     "metadata": {},
     "output_type": "display_data"
    }
   ],
   "source": [
    "%pycat mod1.py"
   ]
  },
  {
   "cell_type": "code",
   "execution_count": 49,
   "id": "8907eb9e-73f7-4685-af12-75dd06bcf1e7",
   "metadata": {},
   "outputs": [
    {
     "name": "stdout",
     "output_type": "stream",
     "text": [
      "5\n",
      "2\n"
     ]
    }
   ],
   "source": [
    "! python mod1.py"
   ]
  },
  {
   "cell_type": "code",
   "execution_count": 50,
   "id": "337272bc-689c-4967-9b6b-0dbec27b9a5f",
   "metadata": {},
   "outputs": [],
   "source": [
    "del mod1"
   ]
  },
  {
   "cell_type": "code",
   "execution_count": null,
   "id": "83620030-3ed6-4555-8f2e-041f6830b6ed",
   "metadata": {},
   "outputs": [],
   "source": []
  },
  {
   "cell_type": "code",
   "execution_count": 53,
   "id": "69fb0721-c709-4bcb-ad24-fee0a44e54c8",
   "metadata": {
    "tags": []
   },
   "outputs": [
    {
     "name": "stdout",
     "output_type": "stream",
     "text": [
      "Overwriting mod1.py\n"
     ]
    }
   ],
   "source": [
    "%%writefile mod1.py\n",
    "\n",
    "def add(a, b):\n",
    "    return a+b\n",
    "def sub(a, b):\n",
    "    return a-b\n",
    "\n",
    "print(__name__)"
   ]
  },
  {
   "cell_type": "code",
   "execution_count": 54,
   "id": "f514e840-f1f6-480f-8ba7-a4c904bba859",
   "metadata": {},
   "outputs": [
    {
     "name": "stdout",
     "output_type": "stream",
     "text": [
      "__main__\n"
     ]
    }
   ],
   "source": [
    "! python mod1.py"
   ]
  },
  {
   "cell_type": "code",
   "execution_count": 56,
   "id": "bd2c8a2c-7f04-4006-82ee-85e515a9a643",
   "metadata": {},
   "outputs": [],
   "source": [
    "# 즐겁게!!\n",
    "import mod1"
   ]
  },
  {
   "cell_type": "code",
   "execution_count": 57,
   "id": "92ca113d-93bf-45f7-a131-aae5c784aa11",
   "metadata": {},
   "outputs": [
    {
     "data": {
      "text/plain": [
       "'mod1'"
      ]
     },
     "execution_count": 57,
     "metadata": {},
     "output_type": "execute_result"
    }
   ],
   "source": [
    "mod1.__name__"
   ]
  },
  {
   "cell_type": "code",
   "execution_count": 58,
   "id": "7f0abb61-dc68-49d8-89bd-6e7c6a78993a",
   "metadata": {},
   "outputs": [],
   "source": [
    "import mod1 as md1"
   ]
  },
  {
   "cell_type": "code",
   "execution_count": 59,
   "id": "ed3b193f-5a12-4364-aa7f-7b0d5c7c9e45",
   "metadata": {},
   "outputs": [
    {
     "data": {
      "text/plain": [
       "'mod1'"
      ]
     },
     "execution_count": 59,
     "metadata": {},
     "output_type": "execute_result"
    }
   ],
   "source": [
    "md1.__name__"
   ]
  },
  {
   "cell_type": "code",
   "execution_count": null,
   "id": "38ef0f10-b4d3-44ef-9646-3165baa38e4d",
   "metadata": {},
   "outputs": [],
   "source": []
  },
  {
   "cell_type": "markdown",
   "id": "3ae048ed-9253-480a-a79f-b1ab55fb678e",
   "metadata": {
    "tags": []
   },
   "source": [
    "## start point\n",
    " - 언어의 시작 함수: main()"
   ]
  },
  {
   "cell_type": "code",
   "execution_count": 60,
   "id": "0358425a-9deb-414c-836e-3e0e6b27a31a",
   "metadata": {
    "tags": []
   },
   "outputs": [
    {
     "name": "stdout",
     "output_type": "stream",
     "text": [
      "Overwriting mod1.py\n"
     ]
    }
   ],
   "source": [
    "%%writefile mod1.py\n",
    "\n",
    "def add(a, b):\n",
    "    return a+b\n",
    "def sub(a, b):\n",
    "    return a-b\n",
    "\n",
    "if __name__ == '__main__':\n",
    "    # test code 실행.\n",
    "    print(add(10, 2))\n",
    "    print(sub(3, 1))"
   ]
  },
  {
   "cell_type": "code",
   "execution_count": 61,
   "id": "d5840be5-5a27-43ef-9847-ef47e051073a",
   "metadata": {},
   "outputs": [
    {
     "name": "stdout",
     "output_type": "stream",
     "text": [
      "12\n",
      "2\n"
     ]
    }
   ],
   "source": [
    "!python mod1.py"
   ]
  },
  {
   "cell_type": "code",
   "execution_count": 62,
   "id": "3f42e70d-7711-4b60-90da-3c278520afea",
   "metadata": {},
   "outputs": [],
   "source": [
    "import mod1"
   ]
  },
  {
   "cell_type": "code",
   "execution_count": 63,
   "id": "5796aa81-e8ad-4e23-a303-ceeea1967687",
   "metadata": {},
   "outputs": [
    {
     "ename": "AttributeError",
     "evalue": "module 'mod1' has no attribute '__module__'",
     "output_type": "error",
     "traceback": [
      "\u001b[1;31m---------------------------------------------------------------------------\u001b[0m",
      "\u001b[1;31mAttributeError\u001b[0m                            Traceback (most recent call last)",
      "Cell \u001b[1;32mIn [63], line 1\u001b[0m\n\u001b[1;32m----> 1\u001b[0m \u001b[43mmod1\u001b[49m\u001b[38;5;241;43m.\u001b[39;49m\u001b[38;5;18;43m__module__\u001b[39;49m\n",
      "\u001b[1;31mAttributeError\u001b[0m: module 'mod1' has no attribute '__module__'"
     ]
    }
   ],
   "source": [
    "mod1.__module__"
   ]
  },
  {
   "cell_type": "code",
   "execution_count": 65,
   "id": "033c2b32-5dd9-4d85-9fcb-a5f8069524e3",
   "metadata": {},
   "outputs": [],
   "source": [
    "from math import sin"
   ]
  },
  {
   "cell_type": "code",
   "execution_count": 66,
   "id": "0decd31d-288c-4292-b9d8-f8f3c0e53a0b",
   "metadata": {},
   "outputs": [
    {
     "data": {
      "text/plain": [
       "'math'"
      ]
     },
     "execution_count": 66,
     "metadata": {},
     "output_type": "execute_result"
    }
   ],
   "source": [
    "sin.__module__"
   ]
  },
  {
   "cell_type": "code",
   "execution_count": 67,
   "id": "c566b411-1894-49a4-9ab6-23b38f0e6e6a",
   "metadata": {},
   "outputs": [
    {
     "ename": "AttributeError",
     "evalue": "'builtin_function_or_method' object has no attribute '__package__'",
     "output_type": "error",
     "traceback": [
      "\u001b[1;31m---------------------------------------------------------------------------\u001b[0m",
      "\u001b[1;31mAttributeError\u001b[0m                            Traceback (most recent call last)",
      "Cell \u001b[1;32mIn [67], line 1\u001b[0m\n\u001b[1;32m----> 1\u001b[0m \u001b[43msin\u001b[49m\u001b[38;5;241;43m.\u001b[39;49m\u001b[43m__package__\u001b[49m\n",
      "\u001b[1;31mAttributeError\u001b[0m: 'builtin_function_or_method' object has no attribute '__package__'"
     ]
    }
   ],
   "source": [
    "sin.__package__"
   ]
  },
  {
   "cell_type": "code",
   "execution_count": null,
   "id": "90075097-e026-4b54-847b-466fad86027d",
   "metadata": {},
   "outputs": [],
   "source": []
  },
  {
   "cell_type": "markdown",
   "id": "fd381f17-db5c-432b-8faf-ee6eaf5da7ab",
   "metadata": {},
   "source": [
    "# package"
   ]
  },
  {
   "cell_type": "code",
   "execution_count": 68,
   "id": "6b4fb654-11c2-438e-adc8-48e34b8f78a8",
   "metadata": {},
   "outputs": [],
   "source": [
    "%mkdir sound"
   ]
  },
  {
   "cell_type": "code",
   "execution_count": 69,
   "id": "0a699265-9395-4ff4-9f86-73e870acc6e8",
   "metadata": {},
   "outputs": [],
   "source": [
    "%mkdir sound\\formats"
   ]
  },
  {
   "cell_type": "code",
   "execution_count": 70,
   "id": "48db4e53-60b6-48aa-845e-860c7a8c221f",
   "metadata": {},
   "outputs": [],
   "source": [
    "%mkdir sound\\effects"
   ]
  },
  {
   "cell_type": "code",
   "execution_count": 71,
   "id": "f79a6391-9807-4f49-9346-0312d99bb378",
   "metadata": {},
   "outputs": [
    {
     "name": "stdout",
     "output_type": "stream",
     "text": [
      " C 드라이브의 볼륨에는 이름이 없습니다.\n",
      " 볼륨 일련 번호: 54DD-C9C2\n",
      "\n",
      " C:\\Users\\kkimj\\jupyter-work\\sound 디렉터리\n",
      "\n",
      "2022-11-17  오후 03:06    <DIR>          .\n",
      "2022-11-17  오후 03:06    <DIR>          ..\n",
      "2022-11-17  오후 03:06    <DIR>          effects\n",
      "2022-11-17  오후 03:06    <DIR>          formats\n",
      "               0개 파일                   0 바이트\n",
      "               4개 디렉터리  68,351,803,392 바이트 남음\n"
     ]
    }
   ],
   "source": [
    "%ls sound"
   ]
  },
  {
   "cell_type": "code",
   "execution_count": 72,
   "id": "32e0ce64-c64c-4a3f-971c-8e7263dfbe31",
   "metadata": {},
   "outputs": [
    {
     "name": "stdout",
     "output_type": "stream",
     "text": [
      "Writing sound/formats/audio.py\n"
     ]
    }
   ],
   "source": [
    "%%writefile sound/formats/audio.py\n",
    "# audio.py\n",
    "\n",
    "def audio(level):\n",
    "    pass"
   ]
  },
  {
   "cell_type": "code",
   "execution_count": 73,
   "id": "f3d7c661-a73f-4f3a-9eb0-e31ab3e68670",
   "metadata": {},
   "outputs": [
    {
     "data": {
      "text/plain": [
       "\u001b[1;31m# audio.py\u001b[0m\u001b[1;33m\n",
       "\u001b[0m\u001b[1;33m\n",
       "\u001b[0m\u001b[1;32mdef\u001b[0m \u001b[0maudio\u001b[0m\u001b[1;33m(\u001b[0m\u001b[0mlevel\u001b[0m\u001b[1;33m)\u001b[0m\u001b[1;33m:\u001b[0m\u001b[1;33m\n",
       "\u001b[0m    \u001b[1;32mpass\u001b[0m\u001b[1;33m\u001b[0m\u001b[1;33m\u001b[0m\u001b[0m\n"
      ]
     },
     "metadata": {},
     "output_type": "display_data"
    }
   ],
   "source": [
    "%pycat sound/formats/audio.py"
   ]
  },
  {
   "cell_type": "code",
   "execution_count": 74,
   "id": "9bc85c5e-540a-4322-98a6-86f11e0d86b3",
   "metadata": {},
   "outputs": [
    {
     "name": "stdout",
     "output_type": "stream",
     "text": [
      "Writing sound/effects/echo.py\n"
     ]
    }
   ],
   "source": [
    "%%writefile sound/effects/echo.py\n",
    "# echo.py\n",
    "\n",
    "def echo(msg):\n",
    "    pass"
   ]
  },
  {
   "cell_type": "code",
   "execution_count": 75,
   "id": "77b9a58e-5711-4cfd-94c0-5fc5d9f122e4",
   "metadata": {},
   "outputs": [
    {
     "data": {
      "text/plain": [
       "\u001b[1;31m# echo.py\u001b[0m\u001b[1;33m\n",
       "\u001b[0m\u001b[1;33m\n",
       "\u001b[0m\u001b[1;32mdef\u001b[0m \u001b[0mecho\u001b[0m\u001b[1;33m(\u001b[0m\u001b[0mmsg\u001b[0m\u001b[1;33m)\u001b[0m\u001b[1;33m:\u001b[0m\u001b[1;33m\n",
       "\u001b[0m    \u001b[1;32mpass\u001b[0m\u001b[1;33m\u001b[0m\u001b[1;33m\u001b[0m\u001b[0m\n"
      ]
     },
     "metadata": {},
     "output_type": "display_data"
    }
   ],
   "source": [
    "%pycat sound/effects/echo.py"
   ]
  },
  {
   "cell_type": "code",
   "execution_count": 79,
   "id": "e1357ad5-748b-4757-ba24-ecf3b5b88545",
   "metadata": {},
   "outputs": [],
   "source": [
    "import sound.formats.audio as audio"
   ]
  },
  {
   "cell_type": "code",
   "execution_count": 80,
   "id": "0d20741b-cb08-4463-8544-2f25b96f9fef",
   "metadata": {},
   "outputs": [
    {
     "ename": "AttributeError",
     "evalue": "module 'sound.formats.audio' has no attribute '__module__'",
     "output_type": "error",
     "traceback": [
      "\u001b[1;31m---------------------------------------------------------------------------\u001b[0m",
      "\u001b[1;31mAttributeError\u001b[0m                            Traceback (most recent call last)",
      "Cell \u001b[1;32mIn [80], line 1\u001b[0m\n\u001b[1;32m----> 1\u001b[0m \u001b[43maudio\u001b[49m\u001b[38;5;241;43m.\u001b[39;49m\u001b[38;5;18;43m__module__\u001b[39;49m\n",
      "\u001b[1;31mAttributeError\u001b[0m: module 'sound.formats.audio' has no attribute '__module__'"
     ]
    }
   ],
   "source": [
    "audio.__module__"
   ]
  },
  {
   "cell_type": "code",
   "execution_count": 81,
   "id": "6bfaa867-5167-4822-9194-c6a112254e93",
   "metadata": {},
   "outputs": [
    {
     "data": {
      "text/plain": [
       "'sound.formats'"
      ]
     },
     "execution_count": 81,
     "metadata": {},
     "output_type": "execute_result"
    }
   ],
   "source": [
    "audio.__package__"
   ]
  },
  {
   "cell_type": "code",
   "execution_count": 77,
   "id": "c6e7121c-6467-4f50-8226-112cab0597d7",
   "metadata": {},
   "outputs": [],
   "source": [
    "from sound.effects import echo"
   ]
  },
  {
   "cell_type": "code",
   "execution_count": 78,
   "id": "de5f7833-5c36-4646-8be9-e242d6297ef4",
   "metadata": {},
   "outputs": [
    {
     "data": {
      "text/plain": [
       "'sound.effects'"
      ]
     },
     "execution_count": 78,
     "metadata": {},
     "output_type": "execute_result"
    }
   ],
   "source": [
    "echo.__package__"
   ]
  },
  {
   "cell_type": "code",
   "execution_count": null,
   "id": "c720e4d2-2163-4fbe-b083-c2b6b59d9163",
   "metadata": {},
   "outputs": [],
   "source": []
  },
  {
   "cell_type": "markdown",
   "id": "1d4227df-4334-48f0-b012-88276ea67206",
   "metadata": {},
   "source": [
    "# 라이브러리 위치 지정"
   ]
  },
  {
   "cell_type": "code",
   "execution_count": 82,
   "id": "d0889cad-0919-411d-b1e8-89342f7b4337",
   "metadata": {},
   "outputs": [
    {
     "data": {
      "text/plain": [
       "['C:\\\\Users\\\\kkimj\\\\jupyter-work',\n",
       " 'C:\\\\Users\\\\kkimj\\\\.pyenv\\\\pyenv-win\\\\versions\\\\3.10.7\\\\python310.zip',\n",
       " 'C:\\\\Users\\\\kkimj\\\\.pyenv\\\\pyenv-win\\\\versions\\\\3.10.7\\\\DLLs',\n",
       " 'C:\\\\Users\\\\kkimj\\\\.pyenv\\\\pyenv-win\\\\versions\\\\3.10.7\\\\lib',\n",
       " 'C:\\\\Users\\\\kkimj\\\\.pyenv\\\\pyenv-win\\\\versions\\\\3.10.7',\n",
       " 'C:\\\\Users\\\\kkimj\\\\.venv\\\\practice1',\n",
       " '',\n",
       " 'C:\\\\Users\\\\kkimj\\\\.venv\\\\practice1\\\\lib\\\\site-packages',\n",
       " 'C:\\\\Users\\\\kkimj\\\\.venv\\\\practice1\\\\lib\\\\site-packages\\\\win32',\n",
       " 'C:\\\\Users\\\\kkimj\\\\.venv\\\\practice1\\\\lib\\\\site-packages\\\\win32\\\\lib',\n",
       " 'C:\\\\Users\\\\kkimj\\\\.venv\\\\practice1\\\\lib\\\\site-packages\\\\Pythonwin']"
      ]
     },
     "execution_count": 82,
     "metadata": {},
     "output_type": "execute_result"
    }
   ],
   "source": [
    "import sys\n",
    "sys.path"
   ]
  },
  {
   "cell_type": "code",
   "execution_count": 83,
   "id": "7d6177c1-8e97-4918-8d2f-9679111206c1",
   "metadata": {},
   "outputs": [
    {
     "name": "stdout",
     "output_type": "stream",
     "text": [
      " C 드라이브의 볼륨에는 이름이 없습니다.\n",
      " 볼륨 일련 번호: 54DD-C9C2\n",
      "\n",
      " C:\\Users\\kkimj\\jupyter-work 디렉터리\n",
      "\n",
      "2022-11-17  오전 10:29               127 argv-test.py\n",
      "2022-11-17  오후 02:42               166 mod1.py\n",
      "2022-11-17  오후 02:16                95 mod2.py\n",
      "               3개 파일                 388 바이트\n",
      "               0개 디렉터리  68,340,830,208 바이트 남음\n"
     ]
    }
   ],
   "source": [
    "%ls *.py"
   ]
  },
  {
   "cell_type": "code",
   "execution_count": 84,
   "id": "7afc4ce5-1099-49b6-9610-d0455cae02cf",
   "metadata": {},
   "outputs": [],
   "source": [
    "%mkdir ..\\Test"
   ]
  },
  {
   "cell_type": "code",
   "execution_count": 85,
   "id": "41a7f8cb-96cd-4345-861f-c4539e1783ef",
   "metadata": {},
   "outputs": [
    {
     "name": "stdout",
     "output_type": "stream",
     "text": [
      " C 드라이브의 볼륨에는 이름이 없습니다.\n",
      " 볼륨 일련 번호: 54DD-C9C2\n",
      "\n",
      " C:\\Users\\kkimj\\Test 디렉터리\n",
      "\n",
      "2022-11-17  오후 03:19    <DIR>          .\n",
      "2022-11-17  오후 03:19    <DIR>          ..\n",
      "               0개 파일                   0 바이트\n",
      "               2개 디렉터리  68,340,621,312 바이트 남음\n"
     ]
    }
   ],
   "source": [
    "%ls ..\\Test"
   ]
  },
  {
   "cell_type": "code",
   "execution_count": 88,
   "id": "c4824384-a5f5-4410-bfaf-a48ed347ea22",
   "metadata": {},
   "outputs": [
    {
     "name": "stdout",
     "output_type": "stream",
     "text": [
      "        1개 파일이 복사되었습니다.\n"
     ]
    }
   ],
   "source": [
    "%copy mod1.py ..\\Test\\test_mod1.py"
   ]
  },
  {
   "cell_type": "code",
   "execution_count": 89,
   "id": "df77c4a0-e708-4fdb-93f2-dd82e9d207bf",
   "metadata": {},
   "outputs": [
    {
     "name": "stdout",
     "output_type": "stream",
     "text": [
      " C 드라이브의 볼륨에는 이름이 없습니다.\n",
      " 볼륨 일련 번호: 54DD-C9C2\n",
      "\n",
      " C:\\Users\\kkimj\\Test 디렉터리\n",
      "\n",
      "2022-11-17  오후 03:21    <DIR>          .\n",
      "2022-11-17  오후 03:21    <DIR>          ..\n",
      "2022-11-17  오후 02:42               166 mod1.py\n",
      "2022-11-17  오후 02:42               166 test_mod1.py\n",
      "               2개 파일                 332 바이트\n",
      "               2개 디렉터리  68,340,834,304 바이트 남음\n"
     ]
    }
   ],
   "source": [
    "%ls ..\\Test"
   ]
  },
  {
   "cell_type": "code",
   "execution_count": 90,
   "id": "ae0d5afd-b905-4366-be08-411bc93172f4",
   "metadata": {},
   "outputs": [
    {
     "ename": "ModuleNotFoundError",
     "evalue": "No module named 'Test'",
     "output_type": "error",
     "traceback": [
      "\u001b[1;31m---------------------------------------------------------------------------\u001b[0m",
      "\u001b[1;31mModuleNotFoundError\u001b[0m                       Traceback (most recent call last)",
      "Cell \u001b[1;32mIn [90], line 1\u001b[0m\n\u001b[1;32m----> 1\u001b[0m \u001b[38;5;28;01mimport\u001b[39;00m \u001b[38;5;21;01mTest\u001b[39;00m\u001b[38;5;21;01m.\u001b[39;00m\u001b[38;5;21;01mtest_mod1\u001b[39;00m\n",
      "\u001b[1;31mModuleNotFoundError\u001b[0m: No module named 'Test'"
     ]
    }
   ],
   "source": [
    "import Test.test_mod1"
   ]
  },
  {
   "cell_type": "code",
   "execution_count": 91,
   "id": "79339efa-0e34-431b-a3b5-817e209de0d1",
   "metadata": {},
   "outputs": [
    {
     "data": {
      "text/plain": [
       "['C:\\\\Users\\\\kkimj\\\\jupyter-work',\n",
       " 'C:\\\\Users\\\\kkimj\\\\.pyenv\\\\pyenv-win\\\\versions\\\\3.10.7\\\\python310.zip',\n",
       " 'C:\\\\Users\\\\kkimj\\\\.pyenv\\\\pyenv-win\\\\versions\\\\3.10.7\\\\DLLs',\n",
       " 'C:\\\\Users\\\\kkimj\\\\.pyenv\\\\pyenv-win\\\\versions\\\\3.10.7\\\\lib',\n",
       " 'C:\\\\Users\\\\kkimj\\\\.pyenv\\\\pyenv-win\\\\versions\\\\3.10.7',\n",
       " 'C:\\\\Users\\\\kkimj\\\\.venv\\\\practice1',\n",
       " '',\n",
       " 'C:\\\\Users\\\\kkimj\\\\.venv\\\\practice1\\\\lib\\\\site-packages',\n",
       " 'C:\\\\Users\\\\kkimj\\\\.venv\\\\practice1\\\\lib\\\\site-packages\\\\win32',\n",
       " 'C:\\\\Users\\\\kkimj\\\\.venv\\\\practice1\\\\lib\\\\site-packages\\\\win32\\\\lib',\n",
       " 'C:\\\\Users\\\\kkimj\\\\.venv\\\\practice1\\\\lib\\\\site-packages\\\\Pythonwin']"
      ]
     },
     "execution_count": 91,
     "metadata": {},
     "output_type": "execute_result"
    }
   ],
   "source": [
    "sys.path"
   ]
  },
  {
   "cell_type": "code",
   "execution_count": 96,
   "id": "6c18592d-2327-454e-b2a2-bd3093ad6b44",
   "metadata": {},
   "outputs": [],
   "source": [
    "sys.path.append('C:\\\\Users\\\\kkimj\\\\Test') # 'TEST'를 kkimj 폴더 아래로 임의 지정"
   ]
  },
  {
   "cell_type": "code",
   "execution_count": 93,
   "id": "4261f2d8-c0de-40fd-b3ed-80c7bd3ca392",
   "metadata": {},
   "outputs": [
    {
     "data": {
      "text/plain": [
       "['C:\\\\Users\\\\kkimj\\\\jupyter-work',\n",
       " 'C:\\\\Users\\\\kkimj\\\\.pyenv\\\\pyenv-win\\\\versions\\\\3.10.7\\\\python310.zip',\n",
       " 'C:\\\\Users\\\\kkimj\\\\.pyenv\\\\pyenv-win\\\\versions\\\\3.10.7\\\\DLLs',\n",
       " 'C:\\\\Users\\\\kkimj\\\\.pyenv\\\\pyenv-win\\\\versions\\\\3.10.7\\\\lib',\n",
       " 'C:\\\\Users\\\\kkimj\\\\.pyenv\\\\pyenv-win\\\\versions\\\\3.10.7',\n",
       " 'C:\\\\Users\\\\kkimj\\\\.venv\\\\practice1',\n",
       " '',\n",
       " 'C:\\\\Users\\\\kkimj\\\\.venv\\\\practice1\\\\lib\\\\site-packages',\n",
       " 'C:\\\\Users\\\\kkimj\\\\.venv\\\\practice1\\\\lib\\\\site-packages\\\\win32',\n",
       " 'C:\\\\Users\\\\kkimj\\\\.venv\\\\practice1\\\\lib\\\\site-packages\\\\win32\\\\lib',\n",
       " 'C:\\\\Users\\\\kkimj\\\\.venv\\\\practice1\\\\lib\\\\site-packages\\\\Pythonwin',\n",
       " 'C:\\\\Users\\\\kkimj\\\\Test']"
      ]
     },
     "execution_count": 93,
     "metadata": {},
     "output_type": "execute_result"
    }
   ],
   "source": [
    "sys.path"
   ]
  },
  {
   "cell_type": "code",
   "execution_count": 94,
   "id": "05c1c2d7-7801-4d12-b8a0-0513baee0e88",
   "metadata": {},
   "outputs": [],
   "source": [
    "import test_mod1"
   ]
  },
  {
   "cell_type": "code",
   "execution_count": 95,
   "id": "fc375235-3637-4794-a627-f762e5966e02",
   "metadata": {},
   "outputs": [
    {
     "data": {
      "text/plain": [
       "55"
      ]
     },
     "execution_count": 95,
     "metadata": {},
     "output_type": "execute_result"
    }
   ],
   "source": [
    "test_mod1.add(10, 45)"
   ]
  }
 ],
 "metadata": {
  "kernelspec": {
   "display_name": "Python 3 (ipykernel)",
   "language": "python",
   "name": "python3"
  },
  "language_info": {
   "codemirror_mode": {
    "name": "ipython",
    "version": 3
   },
   "file_extension": ".py",
   "mimetype": "text/x-python",
   "name": "python",
   "nbconvert_exporter": "python",
   "pygments_lexer": "ipython3",
   "version": "3.10.3"
  }
 },
 "nbformat": 4,
 "nbformat_minor": 5
}
