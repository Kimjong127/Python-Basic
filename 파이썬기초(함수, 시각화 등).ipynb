{
 "cells": [
  {
   "cell_type": "markdown",
   "id": "6a300a32-3b58-4181-8fa2-73b6b6949ecf",
   "metadata": {},
   "source": [
    "# Python 함수"
   ]
  },
  {
   "cell_type": "markdown",
   "id": "142f9c66-ffb5-47ba-8fc7-1e91f414bd0c",
   "metadata": {},
   "source": [
    "- 디폴트 인수\n",
    "   - 파이썬에서는 함수의 매개 변수가 기본값을 가질 수 있따. 이것을 디폴트 인수(default argument)라고 한다."
   ]
  },
  {
   "cell_type": "markdown",
   "id": "8276c804-2cac-4f8a-b3da-4a5bc7479904",
   "metadata": {},
   "source": [
    "- 파이썬의 인자 종류\n",
    "1. 위치 인자\n",
    "    - 생략이 불가능\n",
    "    - 인자의 위치에 정확하게 전달\n",
    "2. 키워드 인자\n",
    "    - 생략이 가능(생략된 경우 -> default)"
   ]
  },
  {
   "cell_type": "code",
   "execution_count": 12,
   "id": "1086407d-25e1-4882-b3bb-40f2553a23b4",
   "metadata": {},
   "outputs": [],
   "source": [
    "def something(a, b, c):\n",
    "    print('a =', a, 'b =', b, 'c =', c)"
   ]
  },
  {
   "cell_type": "code",
   "execution_count": 13,
   "id": "f67e2cbd-9a0b-4c66-887d-1fd61d825344",
   "metadata": {},
   "outputs": [
    {
     "name": "stdout",
     "output_type": "stream",
     "text": [
      "a = 1 b = 2 c = 3\n"
     ]
    }
   ],
   "source": [
    "something(1, 2, 3)   # 실행 O"
   ]
  },
  {
   "cell_type": "code",
   "execution_count": 15,
   "id": "cd5c0b5b-16c3-460a-bf7a-14944d247cd8",
   "metadata": {},
   "outputs": [
    {
     "name": "stdout",
     "output_type": "stream",
     "text": [
      "a = 1 b = 2 c = 3\n"
     ]
    }
   ],
   "source": [
    "something(a=1, b=2, c=3) # 실행 0"
   ]
  },
  {
   "cell_type": "code",
   "execution_count": 16,
   "id": "476a35a1-a8fe-42de-a7bb-47de0eeba567",
   "metadata": {},
   "outputs": [
    {
     "name": "stdout",
     "output_type": "stream",
     "text": [
      "a = 1 b = 2 c = 3\n"
     ]
    }
   ],
   "source": [
    "something(1, b=2, c=3) # 실행 0"
   ]
  },
  {
   "cell_type": "code",
   "execution_count": 17,
   "id": "7b86e7d3-f491-4152-805b-cf44cb820232",
   "metadata": {},
   "outputs": [
    {
     "ename": "SyntaxError",
     "evalue": "positional argument follows keyword argument (2376685819.py, line 1)",
     "output_type": "error",
     "traceback": [
      "\u001b[1;36m  Cell \u001b[1;32mIn [17], line 1\u001b[1;36m\u001b[0m\n\u001b[1;33m    something(a=1, 2, 3)  # 실행 X\u001b[0m\n\u001b[1;37m                       ^\u001b[0m\n\u001b[1;31mSyntaxError\u001b[0m\u001b[1;31m:\u001b[0m positional argument follows keyword argument\n"
     ]
    }
   ],
   "source": [
    "something(a=1, 2, 3)  # 실행 X"
   ]
  },
  {
   "cell_type": "code",
   "execution_count": null,
   "id": "1d84010e-9ad6-4c48-a06f-0f85d985a1df",
   "metadata": {},
   "outputs": [],
   "source": []
  },
  {
   "cell_type": "markdown",
   "id": "12b000b1-4c04-45a5-a67a-bbd1633b4354",
   "metadata": {},
   "source": [
    "*args - 가변 위치 인수\n",
    "**kwargs - 가변 키워드 인수"
   ]
  },
  {
   "cell_type": "code",
   "execution_count": 27,
   "id": "8e6674f6-29ca-49db-8d15-fc2373f3743d",
   "metadata": {},
   "outputs": [
    {
     "name": "stdout",
     "output_type": "stream",
     "text": [
      "1\n",
      "2\n",
      "3\n",
      "4\n",
      "5\n",
      "6\n",
      "7\n"
     ]
    }
   ],
   "source": [
    "def print_msg(*args):\n",
    "    # args는 튜플 타입이다.\n",
    "    # args = (1, 2, 3, 4, 5, 6, 7)\n",
    "    for i in args:\n",
    "        print(i)\n",
    "        \n",
    "print_msg(1, 2, 3, 4, 5, 6, 7)"
   ]
  },
  {
   "cell_type": "code",
   "execution_count": 21,
   "id": "d162dd76-a1e9-4422-86fb-6c6447556f59",
   "metadata": {},
   "outputs": [
    {
     "name": "stdout",
     "output_type": "stream",
     "text": [
      "{'a': 1, 'b': 2, 'c': 3, 'd': 4} <class 'dict'>\n"
     ]
    }
   ],
   "source": [
    "def print_msg(**kwargs):\n",
    "    # kwargs는 딕셔너리 타입\n",
    "    # kwargs = {a : 1, b : 2, c : 3, d : 4}\n",
    "    print(kwargs, type(kwargs))\n",
    "    \n",
    "print_msg(a=1, b=2, c=3, d=4)"
   ]
  },
  {
   "cell_type": "code",
   "execution_count": 23,
   "id": "64d6dcca-2ce7-4aff-b734-a9ba069bdd3c",
   "metadata": {},
   "outputs": [
    {
     "name": "stdout",
     "output_type": "stream",
     "text": [
      "(1, 2, 3, 4) {'a': 5, 'b': 6, 'c': 7}\n"
     ]
    }
   ],
   "source": [
    "# args와 kwargs를 같이 쓰는 경우 (args는 튜플형태로, kwargs는 딕셔너리 형태로)\n",
    "\n",
    "def print_msg(*args, **kwargs):\n",
    "    print(args, kwargs)\n",
    "    \n",
    "print_msg(1, 2, 3, 4, a=5, b=6, c=7)"
   ]
  },
  {
   "cell_type": "code",
   "execution_count": 28,
   "id": "2e91d750-f0a1-4d14-afba-61d5787e4ce9",
   "metadata": {},
   "outputs": [
    {
     "ename": "SyntaxError",
     "evalue": "invalid syntax (3288289674.py, line 1)",
     "output_type": "error",
     "traceback": [
      "\u001b[1;36m  Cell \u001b[1;32mIn [28], line 1\u001b[1;36m\u001b[0m\n\u001b[1;33m    def print_msg(**kwargs, *args):\u001b[0m\n\u001b[1;37m                            ^\u001b[0m\n\u001b[1;31mSyntaxError\u001b[0m\u001b[1;31m:\u001b[0m invalid syntax\n"
     ]
    }
   ],
   "source": [
    "def print_msg(**kwargs, *args):\n",
    "    print(kwargs, args)\n",
    "    \n",
    "print_msg(a=1, b=2, c=3, 4, 5, 6)\n",
    "\n",
    "# 같이 쓸 경우 '무조건' 키워드 인자(kwargs)는 위치 인자(args) 뒤에 위치해야한다."
   ]
  },
  {
   "cell_type": "code",
   "execution_count": 26,
   "id": "09b30005-fc2e-4ecb-98b2-22d0ede1e234",
   "metadata": {},
   "outputs": [],
   "source": [
    "def something(a, b, c):\n",
    "    print(a, b, c)"
   ]
  },
  {
   "cell_type": "code",
   "execution_count": 29,
   "id": "eeace7d8-328a-4115-b92f-af9610e7f9a8",
   "metadata": {},
   "outputs": [
    {
     "name": "stdout",
     "output_type": "stream",
     "text": [
      "30\n",
      "60\n"
     ]
    }
   ],
   "source": [
    "# 가변 인수 예제 1\n",
    "def add(*numbers):\n",
    "    sum = 0\n",
    "    for n in numbers:\n",
    "        sum += n\n",
    "    return sum\n",
    "\n",
    "print(add(10, 20))\n",
    "print(add(10, 20, 30))"
   ]
  },
  {
   "cell_type": "code",
   "execution_count": null,
   "id": "e06ef4f8-1c17-4e86-b8d7-b56539386580",
   "metadata": {},
   "outputs": [],
   "source": []
  },
  {
   "cell_type": "markdown",
   "id": "38dd3f7b-7592-4751-958d-a4503b1152fb",
   "metadata": {},
   "source": [
    "파이썬 (*, 별표, asterisk)\n",
    "\n",
    "1. 곱셈(2*3), 거듭제곱(2**3)\n",
    "2. 가변 인수 선언(위치인수 : *args, 키워드인수 : **kwargs)\n",
    "3. 데이터를 언팩킹할 때"
   ]
  },
  {
   "cell_type": "code",
   "execution_count": 37,
   "id": "8fa838d3-0ef1-472d-ac23-555489b7e97e",
   "metadata": {},
   "outputs": [
    {
     "name": "stdout",
     "output_type": "stream",
     "text": [
      "1 2 3\n",
      "1:2:3\n"
     ]
    }
   ],
   "source": [
    "alist = [1, 2, 3]\n",
    "print(*alist)\n",
    "print(*alist, sep=':')"
   ]
  },
  {
   "cell_type": "code",
   "execution_count": 33,
   "id": "175495fc-2442-4d9f-9486-01540d6e11d8",
   "metadata": {},
   "outputs": [
    {
     "name": "stdout",
     "output_type": "stream",
     "text": [
      "(1, 2, 3)\n",
      "1\n",
      "2\n",
      "3\n"
     ]
    }
   ],
   "source": [
    "a = (1, 2, 3)\n",
    "(A, B, C) = a\n",
    "\n",
    "print(a)\n",
    "print(A)\n",
    "print(B)\n",
    "print(C)"
   ]
  },
  {
   "cell_type": "code",
   "execution_count": 41,
   "id": "eae040c8-2d43-4a0d-a464-44983527547d",
   "metadata": {},
   "outputs": [
    {
     "name": "stdout",
     "output_type": "stream",
     "text": [
      "6\n"
     ]
    }
   ],
   "source": [
    "# 연산자로 언패킹하기 예제 2\n",
    "\n",
    "def sum(a, b, c):\n",
    "    print(a+b+c)\n",
    "    \n",
    "alsit = [1, 2, 3]\n",
    "sum(*alist)"
   ]
  },
  {
   "cell_type": "code",
   "execution_count": 42,
   "id": "a106a46e-70be-4a8f-b4a5-5955d38861c7",
   "metadata": {},
   "outputs": [
    {
     "name": "stdout",
     "output_type": "stream",
     "text": [
      "200\n",
      "100\n"
     ]
    }
   ],
   "source": [
    "# 함수 안에서 전역 변수 변경하기 1\n",
    "\n",
    "gx = 100\n",
    "g = 200\n",
    "def myfunc():\n",
    "    gx = g    # 함수 안에서 변수에 값을 저장하면 지역 변수가 생성된다.\n",
    "    print(gx)\n",
    "    \n",
    "myfunc()\n",
    "print(gx)"
   ]
  },
  {
   "cell_type": "code",
   "execution_count": 43,
   "id": "5d26dd5e-ed76-4b9c-b994-f6ac95c1b269",
   "metadata": {},
   "outputs": [
    {
     "name": "stdout",
     "output_type": "stream",
     "text": [
      "200\n",
      "200\n"
     ]
    }
   ],
   "source": [
    "# 함수 안에서 전역 변수 변경하기 2\n",
    "\n",
    "gx = 100\n",
    "g = 200\n",
    "def myfunc():\n",
    "    global gx   # 전역 변수 gx를 사용한다.\n",
    "    gx = g\n",
    "    print(gx)\n",
    "    \n",
    "myfunc()\n",
    "print(gx)"
   ]
  },
  {
   "cell_type": "code",
   "execution_count": null,
   "id": "e642b8ca-cca5-4d1a-b86f-a545e6f479ee",
   "metadata": {},
   "outputs": [],
   "source": []
  },
  {
   "cell_type": "code",
   "execution_count": 51,
   "id": "5088c6f0-2ae8-4f1d-a213-2b17e2bd396f",
   "metadata": {},
   "outputs": [
    {
     "name": "stdout",
     "output_type": "stream",
     "text": [
      "철수 안녕?, 잘지내니\n",
      "민지 안녕?, 잘가\n",
      "길동 안녕?, 이리와\n"
     ]
    }
   ],
   "source": [
    "# 이름을 인자로 받고 '안녕~ ㅇㅇ야'\n",
    "\n",
    "def greet(name, msg = '이리와'):\n",
    "    print(f'{name} 안녕?, {msg}')\n",
    "    \n",
    "greet('철수', '잘지내니')\n",
    "greet('민지', '잘가')\n",
    "greet('길동')"
   ]
  },
  {
   "cell_type": "code",
   "execution_count": 54,
   "id": "9a760d42-3454-421b-93c5-88b48093465a",
   "metadata": {},
   "outputs": [
    {
     "data": {
      "text/plain": [
       "(20, 60)"
      ]
     },
     "execution_count": 54,
     "metadata": {},
     "output_type": "execute_result"
    }
   ],
   "source": [
    "# 두개의 값을 리턴하는 함수\n",
    "\n",
    "def get_data(x, y):\n",
    "    return x * 2, y * 2\n",
    "\n",
    "get_data(10, 30)"
   ]
  },
  {
   "cell_type": "code",
   "execution_count": 56,
   "id": "b7f109ca-7b50-4c16-b369-0f8536e3cfb6",
   "metadata": {},
   "outputs": [
    {
     "name": "stdout",
     "output_type": "stream",
     "text": [
      "20 60\n"
     ]
    }
   ],
   "source": [
    "a, b = get_data(10, 30)   # 언패킹\n",
    "print(a, b)"
   ]
  },
  {
   "cell_type": "code",
   "execution_count": 57,
   "id": "83c98c8e-c128-478a-b2d4-7a29caec8ab2",
   "metadata": {},
   "outputs": [],
   "source": [
    "# 나중에 작성할 함수, 미리 선언\n",
    "\n",
    "# ToDo : 회사방침 아직 미정\n",
    "def signup():\n",
    "    # 카카오\n",
    "    # 구글\n",
    "    pass"
   ]
  },
  {
   "cell_type": "code",
   "execution_count": 62,
   "id": "d4882e3b-5b42-4b7b-b5c9-f100209c3121",
   "metadata": {},
   "outputs": [
    {
     "data": {
      "text/plain": [
       "28.26"
      ]
     },
     "execution_count": 62,
     "metadata": {},
     "output_type": "execute_result"
    }
   ],
   "source": [
    "# 함수에 다른 함수를 사용하기\n",
    "\n",
    "def get_area(radius):\n",
    "    area =  3.14 * square(radius)\n",
    "    return area\n",
    "\n",
    "def square(x):\n",
    "    return x ** 2\n",
    "\n",
    "get_area(3)"
   ]
  },
  {
   "cell_type": "code",
   "execution_count": 63,
   "id": "e0bb6768-b2b5-4592-90b8-303d9ba8308d",
   "metadata": {},
   "outputs": [
    {
     "data": {
      "text/plain": [
       "25"
      ]
     },
     "execution_count": 63,
     "metadata": {},
     "output_type": "execute_result"
    }
   ],
   "source": [
    "square(5)"
   ]
  },
  {
   "cell_type": "code",
   "execution_count": 67,
   "id": "573840a4-20b9-4423-8f2e-9e0c84f322d1",
   "metadata": {},
   "outputs": [
    {
     "data": {
      "text/plain": [
       "6"
      ]
     },
     "execution_count": 67,
     "metadata": {},
     "output_type": "execute_result"
    }
   ],
   "source": [
    "# 위치, 키워드 인수\n",
    "\n",
    "def get_plus(x, y, z):\n",
    "    return x + y + z\n",
    "\n",
    "get_plus(1, 2, 3)\n",
    "get_plus(x=1, y=2, z=3)\n",
    "get_plus(1, y=2, z=3)\n",
    "# get_plus(x=1, 2, 3) - syntax error "
   ]
  },
  {
   "cell_type": "code",
   "execution_count": 69,
   "id": "eef1a524-5c07-4933-9257-b54d0e92614b",
   "metadata": {},
   "outputs": [
    {
     "name": "stdout",
     "output_type": "stream",
     "text": [
      "(1, 2, 3, 4, 5, 6, 7) <class 'tuple'>\n"
     ]
    }
   ],
   "source": [
    "# 가변 인수\n",
    "\n",
    "def all_print(*args):\n",
    "    print(args, type(args))\n",
    "    \n",
    "all_print(1, 2, 3, 4, 5, 6, 7)"
   ]
  },
  {
   "cell_type": "code",
   "execution_count": 70,
   "id": "85574bba-97d0-40c9-af5b-e4c187a8975c",
   "metadata": {},
   "outputs": [
    {
     "name": "stdout",
     "output_type": "stream",
     "text": [
      "{'a': 1, 'b': 2, 'c': 3, 'name': '철수'} <class 'dict'>\n"
     ]
    }
   ],
   "source": [
    "# 키워드 인수\n",
    "\n",
    "def all_print2(**kwargs):\n",
    "    print(kwargs, type(kwargs))\n",
    "    \n",
    "all_print2(a=1, b=2, c=3, name='철수')"
   ]
  },
  {
   "cell_type": "code",
   "execution_count": null,
   "id": "6669ccf2-ea70-45c4-be54-3c0c130b1f40",
   "metadata": {},
   "outputs": [],
   "source": [
    "# 재귀호출\n",
    "# factorial\n",
    "\n",
    "'''\n",
    "팩토리얼\n",
    "5! = 5 * 4 * 3 * 2 * 1\n",
    "3! = 4 * 3 * 2 * 1\n",
    "\n",
    "5! = 5 * 4!\n",
    "   = 20 * 3!\n",
    "   = 60 * 2!\n",
    "   = 120 * 1!\n",
    "   = 120\n",
    "'''"
   ]
  },
  {
   "cell_type": "code",
   "execution_count": 1,
   "id": "4ef6c930-dd93-4831-b0ba-431c2ace20ed",
   "metadata": {},
   "outputs": [
    {
     "data": {
      "text/plain": [
       "120"
      ]
     },
     "execution_count": 1,
     "metadata": {},
     "output_type": "execute_result"
    }
   ],
   "source": [
    "def factorial(n):\n",
    "    '''\n",
    "    n * factorial(n-1)\n",
    "        4 * factorial(3)\n",
    "            3 * factorial(2)\n",
    "                2 * factorial(1)\n",
    "                    1 * factorial(0)\n",
    "    '''\n",
    "    if n == 0:\n",
    "        return 1\n",
    "    else:\n",
    "        return n * factorial(n-1)\n",
    "\n",
    "factorial(5)"
   ]
  },
  {
   "cell_type": "code",
   "execution_count": null,
   "id": "1c1f64c7-e97a-4198-8d93-644ab0d427ca",
   "metadata": {},
   "outputs": [],
   "source": [
    "# Binary search (조건 : 전달하고자 하는 리스트가 오름차순으로 sorting되어 있어야함)\n",
    "# 리스트가 있고, 리스트 안에 내가 찾고자 하는 값이 있는지 탐색하고자 사용하는 알고리즘\n",
    "# 리스트의 중간 값을 찾아보고, 중간값이 내가 찾고자 하는 값보다 크면 [:중간인덱스]\n",
    "# 중간값이 내가 찾고자 하는 값보다 작으면 [중간값인덱스:]\n",
    "\n",
    "# [1, 2, 3, 4, 5, 6, 7, 8, 9, 10], 7\n",
    "1. 중간값이 5\n",
    "2. 7과 5를 비교 -> [6, 7, 8, 9, 10]\n",
    "3. 중간값 : 8\n",
    "4. [6, 7]\n",
    "5. 중간값이 6\n",
    "6. 7"
   ]
  },
  {
   "cell_type": "code",
   "execution_count": 4,
   "id": "a19e17ce-3066-41e1-9fa9-98a3b03254af",
   "metadata": {},
   "outputs": [],
   "source": [
    "def binary_search(arr, target):\n",
    "    if not arr:\n",
    "        return False\n",
    "    \n",
    "    mid = len(arr)//2\n",
    "    mid_value = arr[mid]\n",
    "    \n",
    "    if mid_value == target:\n",
    "        return True\n",
    "    elif mid_value > target:\n",
    "        return binary_search(arr[:mid], target)\n",
    "    else:\n",
    "        return binary_search(arr[mid+1:], target)"
   ]
  },
  {
   "cell_type": "code",
   "execution_count": 3,
   "id": "1c9ee9c5-0467-460b-b6ea-db15b98c3984",
   "metadata": {},
   "outputs": [
    {
     "data": {
      "text/plain": [
       "False"
      ]
     },
     "execution_count": 3,
     "metadata": {},
     "output_type": "execute_result"
    }
   ],
   "source": [
    "binary_search([1, 2, 3, 4, 5, 6, 7, 8], 11)"
   ]
  },
  {
   "cell_type": "code",
   "execution_count": 5,
   "id": "504069f6-36ef-4f4d-b322-fafc491f727b",
   "metadata": {},
   "outputs": [
    {
     "name": "stdout",
     "output_type": "stream",
     "text": [
      "100\n",
      "100\n"
     ]
    }
   ],
   "source": [
    "# 지역변수 실습\n",
    "\n",
    "gx = 100\n",
    "\n",
    "def my_func():\n",
    "    print(gx)\n",
    "    \n",
    "my_func()\n",
    "print(gx)"
   ]
  },
  {
   "cell_type": "code",
   "execution_count": 7,
   "id": "a120f7d1-aa67-48d3-997d-54585942969a",
   "metadata": {},
   "outputs": [
    {
     "name": "stdout",
     "output_type": "stream",
     "text": [
      "200\n",
      "100\n"
     ]
    }
   ],
   "source": [
    "gx2 = 100\n",
    "g2 = 200\n",
    "def my_func2():\n",
    "    gx2 = g2  # 함수 내에서 변수의 값을 저장하면 지역변수가 됨\n",
    "    print(gx2)  # 200\n",
    "    \n",
    "my_func2()\n",
    "print(gx2)  # 100"
   ]
  },
  {
   "cell_type": "code",
   "execution_count": 9,
   "id": "e8db6c9a-9abe-42c4-8288-db97e71be285",
   "metadata": {},
   "outputs": [
    {
     "name": "stdout",
     "output_type": "stream",
     "text": [
      "200\n",
      "200\n"
     ]
    }
   ],
   "source": [
    "gx3 = 100\n",
    "g3 = 200\n",
    "def my_func3():\n",
    "    global gx3\n",
    "    gx3 = g3\n",
    "    print(gx3)\n",
    "    \n",
    "my_func3()\n",
    "print(gx3)"
   ]
  },
  {
   "cell_type": "code",
   "execution_count": null,
   "id": "d7880c53-8b5b-42ff-91cb-50e75b142edf",
   "metadata": {},
   "outputs": [],
   "source": []
  },
  {
   "cell_type": "markdown",
   "id": "de46684b-8a78-43d0-b458-c8956697fc0f",
   "metadata": {},
   "source": [
    "### Lambda 함수\n",
    "- 예약어로 def와 동일하다.\n",
    "- 함수를 간단하게 한줄로 표현하고자 할 때 사용"
   ]
  },
  {
   "cell_type": "code",
   "execution_count": 10,
   "id": "b1c7831b-18ba-41c9-8cbe-dc94cbb7ab0e",
   "metadata": {},
   "outputs": [
    {
     "data": {
      "text/plain": [
       "5"
      ]
     },
     "execution_count": 10,
     "metadata": {},
     "output_type": "execute_result"
    }
   ],
   "source": [
    "add = lambda x, y: x+y\n",
    "add(1, 4)\n",
    "\n",
    "# def add(x, y):    위와 동일한 함수\n",
    "#    return x + y"
   ]
  },
  {
   "cell_type": "code",
   "execution_count": 11,
   "id": "84ebafc7-5a02-4082-a3fd-4a4ee7e96dbb",
   "metadata": {},
   "outputs": [
    {
     "data": {
      "text/plain": [
       "10"
      ]
     },
     "execution_count": 11,
     "metadata": {},
     "output_type": "execute_result"
    }
   ],
   "source": [
    "cal_len = lambda s: len(s)\n",
    "cal_len('HelloHello')"
   ]
  },
  {
   "cell_type": "code",
   "execution_count": 12,
   "id": "d79d6722-fa45-430c-9464-c2beb0505791",
   "metadata": {},
   "outputs": [
    {
     "data": {
      "text/plain": [
       "[1, 2, 3, 4, 5, 6, 7, 1, 2, 3, 4, 5, 6, 7]"
      ]
     },
     "execution_count": 12,
     "metadata": {},
     "output_type": "execute_result"
    }
   ],
   "source": [
    "mul_list = lambda l: l * 2\n",
    "mul_list([1, 2, 3, 4, 5, 6, 7])"
   ]
  },
  {
   "cell_type": "code",
   "execution_count": null,
   "id": "a1698cc1-595b-4e36-8326-c135f0292a81",
   "metadata": {},
   "outputs": [],
   "source": []
  },
  {
   "cell_type": "code",
   "execution_count": null,
   "id": "7df32571-bc2f-4c57-bb46-106d20be52d0",
   "metadata": {},
   "outputs": [],
   "source": []
  },
  {
   "cell_type": "code",
   "execution_count": null,
   "id": "c1d1df24-221a-475f-9567-d586c6735477",
   "metadata": {},
   "outputs": [],
   "source": []
  },
  {
   "cell_type": "markdown",
   "id": "946d71f1-db0e-4d7b-92cd-2f00ed76b20c",
   "metadata": {},
   "source": [
    "# 객체와 클래스\n",
    "- 객체 지향 프로그래밍에서는 서로 관련 있는 데이터와 함수를 묶어서 객체(object)로 만들고 이들 객체들이 모여서 하나의 프로그램이 된다."
   ]
  },
  {
   "cell_type": "markdown",
   "id": "b6f3f115-eaff-4617-8931-39fbc7e9e291",
   "metadata": {},
   "source": [
    "### 절차 지향과 객체 지향\n",
    "- 절차 지향 \n",
    "    - 일련의 처리 절차를 순서대로 처리\n",
    "    - 빠른 실행, 적은 개발 비용 및 시간\n",
    "    - 디버깅 어려움, 순서 변경시 수정 어려움\n",
    "- 객체 지향\n",
    "    - 모델링을 통해 객체화하여 처리\n",
    "    - 생산성이 좋음, 코드 재사용, 쉬운 유지 보수\n",
    "    - 높은 개발 비용 및 시간"
   ]
  },
  {
   "cell_type": "markdown",
   "id": "45791721-8786-40f3-9e65-c6c0477db91b",
   "metadata": {},
   "source": [
    "### 객체란?\n",
    "- 객체(object)는 속성과 동작을 가진 데이터(대상)"
   ]
  },
  {
   "cell_type": "markdown",
   "id": "9e7a5475-1324-455b-82e8-b0894fbacc53",
   "metadata": {},
   "source": [
    "### 클래스\n",
    "- 객체에 대한 설계도를 클래스라고 한다. 클래스란 특정한 종류의 객체들을 찍어내는 형틀 또는 청사진이라고도 할 수 있따.\n",
    "- **클래스** 로부터 만들어지는 **객체** 를 그 클래스의 인스턴스(instance)라고 한다."
   ]
  },
  {
   "cell_type": "markdown",
   "id": "e3177a72-855a-4f1e-a209-584c75277330",
   "metadata": {},
   "source": [
    "**객체** : 속성, 동작을 가진 데이터 (대상)\n",
    "\n",
    "**클래스** : 설계도\n",
    "\n",
    "**인스턴스** : 설계도로 찍어낸 객체"
   ]
  },
  {
   "cell_type": "markdown",
   "id": "f7ff1ed8-11a8-488e-9b94-c2702c901134",
   "metadata": {},
   "source": [
    "파이썬에서는 모든 것이 객체이다.\n",
    "- 파이썬에서는 모든 것이 객체로 구현된다. 정수도 객체이고 문자열도 객체이며 리스트도 객체이다."
   ]
  },
  {
   "cell_type": "code",
   "execution_count": null,
   "id": "d8837e2e-5824-481b-88f0-2c305af5a024",
   "metadata": {},
   "outputs": [],
   "source": [
    "# 클래스 정의\n",
    "\n",
    "class 클래스 이름:\n",
    "    def __init__(self, ...):   # 생성자를 정의\n",
    "        ...\n",
    "    def 메소드1(self, ...):\n",
    "        ...\n",
    "    def 메소드2(self, ...):\n",
    "        ..."
   ]
  },
  {
   "cell_type": "code",
   "execution_count": 13,
   "id": "98e34ac9-583b-4c70-b0bf-a17c40b24994",
   "metadata": {},
   "outputs": [],
   "source": [
    "class Counter:\n",
    "    def __init__(self):  # 생성자 정의\n",
    "        self.count = 0   # 인스턴스 변수 생성\n",
    "    def increment(self):\n",
    "        self.count += 1"
   ]
  },
  {
   "cell_type": "code",
   "execution_count": 17,
   "id": "e4cff78f-d53c-4ab0-bdbb-5c2714cbeb8f",
   "metadata": {},
   "outputs": [
    {
     "name": "stdout",
     "output_type": "stream",
     "text": [
      "카운터의 값 1\n"
     ]
    }
   ],
   "source": [
    "a = Counter()\n",
    "a.increment()\n",
    "print('카운터의 값', a.count)"
   ]
  },
  {
   "cell_type": "markdown",
   "id": "3810584c-34c3-4ff1-bf92-d0d5845cc24c",
   "metadata": {},
   "source": [
    "- 정보 은닉\n",
    "    - 파이썬에서 인스턴스 변수를 private으로 정의하려면 변수 이름 앞에 __을 붙이면 된다.\n",
    "    - __이 붙은 인스턴스 변수는 클래스 내부에서만 접근될 수 있고, 클래스 외부에서는 메소드를 사용하여 접근"
   ]
  },
  {
   "cell_type": "code",
   "execution_count": 18,
   "id": "e6a0e4fc-a676-411b-a991-8114e4ec3323",
   "metadata": {},
   "outputs": [
    {
     "ename": "AttributeError",
     "evalue": "'Student' object has no attribute '__age'",
     "output_type": "error",
     "traceback": [
      "\u001b[1;31m---------------------------------------------------------------------------\u001b[0m",
      "\u001b[1;31mAttributeError\u001b[0m                            Traceback (most recent call last)",
      "Cell \u001b[1;32mIn [18], line 7\u001b[0m\n\u001b[0;32m      4\u001b[0m         \u001b[38;5;28mself\u001b[39m\u001b[38;5;241m.\u001b[39m__age \u001b[38;5;241m=\u001b[39m age   \u001b[38;5;66;03m# __가 변수 앞에 붙으면 외부에서 변경 금지\u001b[39;00m\n\u001b[0;32m      6\u001b[0m obj\u001b[38;5;241m=\u001b[39mStudent()\n\u001b[1;32m----> 7\u001b[0m \u001b[38;5;28mprint\u001b[39m(\u001b[43mobj\u001b[49m\u001b[38;5;241;43m.\u001b[39;49m\u001b[43m__age\u001b[49m)\n",
      "\u001b[1;31mAttributeError\u001b[0m: 'Student' object has no attribute '__age'"
     ]
    }
   ],
   "source": [
    "class Student:\n",
    "    def __init__(self, name = None, age = 0):\n",
    "        self.__name = name # __가 변수 앞에 붙으면 외부에서 변경 금지\n",
    "        self.__age = age   # __가 변수 앞에 붙으면 외부에서 변경 금지\n",
    "        \n",
    "obj = Student()\n",
    "print(obj.__age)"
   ]
  },
  {
   "cell_type": "markdown",
   "id": "3268d399-d461-49bc-b78e-0016f49123bb",
   "metadata": {},
   "source": [
    "- 접근자와 설정자\n",
    "    - 인스턴스 변수값을 반환하는 접근자(getters)\n",
    "    - 인스턴스 변수값을 설정하는 설정자(setters)"
   ]
  },
  {
   "cell_type": "markdown",
   "id": "4ccfb2b4-05e5-416f-ae03-1c96e77f9680",
   "metadata": {},
   "source": [
    "- 객체 참조\n",
    "    - 파이썬에서 변수는 실제로 객체를 저장하지 않는다. 변수는 단지 객체의 메모리 주소를 저장한다. 객체 자체는 메모리의 다른 곳에 생성된다."
   ]
  },
  {
   "cell_type": "markdown",
   "id": "f67ea70d-8747-422f-9b70-bf580ba21acb",
   "metadata": {},
   "source": [
    "- is, is not\n",
    "    - 2개의 변수가 동일한 객체를 참조하고 있는지를 검사하는 연산자"
   ]
  },
  {
   "cell_type": "markdown",
   "id": "a4d4823b-5af0-4a0b-b542-e96d38c86147",
   "metadata": {},
   "source": [
    "- None 참조값\n",
    "    - 변수가 현재 아무것도 가리키고 있지 않다면 None으로 설정하는 것이 좋다."
   ]
  },
  {
   "cell_type": "markdown",
   "id": "ac25f9e1-4ad2-41b2-b39d-0b866590be11",
   "metadata": {},
   "source": [
    "- 클래스 변수\n",
    "    - 모든 객체를 통틀어서 하나만 생성되고 모든 객체가 이것을 공유하는 변수를 클래스 멤버(class member)라고 한다."
   ]
  },
  {
   "cell_type": "markdown",
   "id": "0b2edf7b-27c0-464e-b77b-355eb9565aa0",
   "metadata": {},
   "source": [
    "- 상속\n",
    "    - 부모 클래스를 상속받아서 자식 클래스를 정의\n",
    "    - 상속(inheritance)은 기존에 존재하는 클래스로부터 코드와 데이터를 이어받고 자신이 필요한 기능을 추가하는 기법이다."
   ]
  },
  {
   "cell_type": "code",
   "execution_count": 19,
   "id": "33bf9f03-879a-44c3-8e19-ab3622bc14b7",
   "metadata": {},
   "outputs": [],
   "source": [
    "# 다중 상속\n",
    "\n",
    "class Base1:\n",
    "    pass\n",
    "class Base2:\n",
    "    pass\n",
    "class MultiDerived(Base1, Base2):\n",
    "    pass"
   ]
  },
  {
   "cell_type": "markdown",
   "id": "7e1c8fa7-f985-450a-ade1-82e58da498f0",
   "metadata": {},
   "source": [
    "- 메소드 오버라이딩 (Method overriding)\n",
    "    - 자식 클래스는 부모 클래스의 모든 메소드를 상속 받는다.필요에 따라 자식클래스에서 부모 클래스의 메소드를 다시 정의 가능하다.\n",
    "    - '자식 클래스의 메소드가 부모 클래스의 메소드를 오버라이드(재정의)한다'라고 한다."
   ]
  },
  {
   "cell_type": "markdown",
   "id": "5d05c528-f571-4461-bf9e-5189827ea351",
   "metadata": {},
   "source": [
    "- 오버로딩 (파이썬에선 지원 X -> 가변인수 사용할 수 있음)\n",
    "    - 동일한 이름의 함수지만 다른 매개변수를 갖는 것"
   ]
  },
  {
   "cell_type": "code",
   "execution_count": null,
   "id": "7d3fec5f-b143-4ced-8968-c01e5f027d0f",
   "metadata": {},
   "outputs": [],
   "source": []
  },
  {
   "cell_type": "markdown",
   "id": "5e0829d3-6781-42b8-8fe5-efcb62f04f05",
   "metadata": {},
   "source": [
    "### 클래스 실습"
   ]
  },
  {
   "cell_type": "code",
   "execution_count": 29,
   "id": "0a75f0e7-aef4-4f17-8606-693cfce6c7b4",
   "metadata": {},
   "outputs": [
    {
     "name": "stdout",
     "output_type": "stream",
     "text": [
      "현재 숫자:  0\n",
      "현재 숫자:  1\n",
      "현재 숫자:  5\n",
      "현재 숫자:  0\n"
     ]
    }
   ],
   "source": [
    "# counter class\n",
    "# 최초 넘버를 설정\n",
    "# 증가하는 기능\n",
    "# reset버튼을 클릭하면 넘버가 0으로 초기화\n",
    "\n",
    "class Counter:\n",
    "    \n",
    "    def __init__(self, init_value = 0):\n",
    "        self.count = init_value\n",
    "    def increment(self):\n",
    "        self.count += 1\n",
    "    def reset(self):\n",
    "        self.count = 0\n",
    "        \n",
    "yellow_counter = Counter()\n",
    "print('현재 숫자: ', yellow_counter.count)\n",
    "\n",
    "yellow_counter.increment()\n",
    "print('현재 숫자: ', yellow_counter.count)\n",
    "\n",
    "yellow_counter.increment()\n",
    "yellow_counter.increment()\n",
    "yellow_counter.increment()\n",
    "yellow_counter.increment()\n",
    "print('현재 숫자: ', yellow_counter.count)\n",
    "\n",
    "yellow_counter.reset()\n",
    "print('현재 숫자: ', yellow_counter.count)"
   ]
  },
  {
   "cell_type": "code",
   "execution_count": 41,
   "id": "4a20d4d3-58f5-470a-838e-82c43e095927",
   "metadata": {},
   "outputs": [
    {
     "name": "stdout",
     "output_type": "stream",
     "text": [
      "전원: False, 채널: 0, 볼륨: 0, 색상: black\n",
      "전원: False, 채널: 0, 볼륨: 0, 색상: black\n",
      "전원: True, 채널: 0, 볼륨: 0, 색상: black\n",
      "전원: True, 채널: 0, 볼륨: 1, 색상: black\n"
     ]
    }
   ],
   "source": [
    "# TV\n",
    "# 현재 채널, 현재 볼륨, 브랜드, 색상, 전원 상태\n",
    "# 전원 켜고 끄기,  채널(Up, Down), 볼륨(Up, Down)\n",
    "# 전원이 켜져야 볼륨이 up, down이 가능하다는 조건 \n",
    "\n",
    "class TV:\n",
    "    def __init__(self, brand, color, on = False, channel = 0, volume = 0):\n",
    "        self.brand = brand\n",
    "        self.color = color\n",
    "        self.on = on\n",
    "        self.channel = channel \n",
    "        self.volume = volume\n",
    "    \n",
    "    def toggleOn(self):\n",
    "        self.on = not(self.on)\n",
    "    \n",
    "    def upChannel(self):\n",
    "        if self.on:\n",
    "            self.channel += 1\n",
    "    \n",
    "    def downChannel(self):\n",
    "        if self.on and self.channel != 0:\n",
    "            self.channel -= 1\n",
    "    \n",
    "    def upVolume(self):\n",
    "        if self.on:\n",
    "            self.volume += 1\n",
    "    \n",
    "    def downVolume(self):\n",
    "        if self.on and self.channel != 0:\n",
    "            self.volume -= 1\n",
    "            \n",
    "s = TV(\"SAMSUNG\", 'black', False, 0, 0)\n",
    "s\n",
    "t = s\n",
    "s, t\n",
    "\n",
    "print(f'전원: {s.on}, 채널: {s.channel}, 볼륨: {s.volume}, 색상: {s.color}')\n",
    "\n",
    "s.upVolume()   # 전원이 on상태일 때만 볼륨조절이 가능하므로 동작을 하지 않는다. 즉 전원을 먼저 켜야함.\n",
    "print(f'전원: {s.on}, 채널: {s.channel}, 볼륨: {s.volume}, 색상: {s.color}')\n",
    "\n",
    "s.toggleOn()   # 전원 켜기\n",
    "print(f'전원: {s.on}, 채널: {s.channel}, 볼륨: {s.volume}, 색상: {s.color}')\n",
    "\n",
    "s.upVolume()   # 전원을 켠 상태이므로 볼륨이 1 증가한다.\n",
    "print(f'전원: {s.on}, 채널: {s.channel}, 볼륨: {s.volume}, 색상: {s.color}')"
   ]
  },
  {
   "cell_type": "code",
   "execution_count": null,
   "id": "1935d6b5-7075-4f8a-b57e-4033dea6a109",
   "metadata": {},
   "outputs": [],
   "source": [
    "# 클래스 차\n",
    "# 속도, 방향, 브랜드, 색상\n",
    "# 엑셀, 브레이크, 핸들(좌, 정면, 우)\n",
    "\n",
    "# 클래스 트럭(차 클래스를 상속)\n",
    "# 탑재량(최초에 초기화)\n",
    "# 부스터(엑셀*2)"
   ]
  },
  {
   "cell_type": "code",
   "execution_count": 49,
   "id": "38ef92ad-793f-49ab-87f1-3d3e54888e7e",
   "metadata": {},
   "outputs": [
    {
     "name": "stdout",
     "output_type": "stream",
     "text": [
      "속도:  0\n",
      "속도:  1\n",
      "속도:  3\n",
      "속도:  2\n"
     ]
    },
    {
     "ename": "AttributeError",
     "evalue": "'Car' object has no attribute 'boost'",
     "output_type": "error",
     "traceback": [
      "\u001b[1;31m---------------------------------------------------------------------------\u001b[0m",
      "\u001b[1;31mAttributeError\u001b[0m                            Traceback (most recent call last)",
      "Cell \u001b[1;32mIn [49], line 35\u001b[0m\n\u001b[0;32m     32\u001b[0m \u001b[38;5;28mprint\u001b[39m(\u001b[38;5;124m'\u001b[39m\u001b[38;5;124m속도: \u001b[39m\u001b[38;5;124m'\u001b[39m, t\u001b[38;5;241m.\u001b[39mspeed) \n\u001b[0;32m     34\u001b[0m c \u001b[38;5;241m=\u001b[39m Car(\u001b[38;5;124m'\u001b[39m\u001b[38;5;124m현대\u001b[39m\u001b[38;5;124m'\u001b[39m, \u001b[38;5;124m'\u001b[39m\u001b[38;5;124mred\u001b[39m\u001b[38;5;124m'\u001b[39m)\n\u001b[1;32m---> 35\u001b[0m \u001b[43mc\u001b[49m\u001b[38;5;241;43m.\u001b[39;49m\u001b[43mboost\u001b[49m()\n\u001b[0;32m     36\u001b[0m \u001b[38;5;28mprint\u001b[39m(\u001b[38;5;124m'\u001b[39m\u001b[38;5;124m속도:\u001b[39m\u001b[38;5;124m'\u001b[39m, c\u001b[38;5;241m.\u001b[39mspeed)\n",
      "\u001b[1;31mAttributeError\u001b[0m: 'Car' object has no attribute 'boost'"
     ]
    }
   ],
   "source": [
    "class Car:        # 부모 클래스\n",
    "    def __init__(self, brand, color):\n",
    "        self.speed = 0\n",
    "        self.direction = '정면'\n",
    "        self.brand = brand\n",
    "        self.color = color\n",
    "    \n",
    "    def upSpeed(self):\n",
    "        self.speed += 1\n",
    "    \n",
    "    def downSpeed(self):\n",
    "        self.speed -= 1\n",
    "\n",
    "class Truck(Car):  # 자식 클래스\n",
    "    def __init__(self, brand, color, load):\n",
    "        super().__init__(brand, color)\n",
    "        self.load = load\n",
    "        \n",
    "    def boost(self):\n",
    "        self.speed += 2\n",
    "        \n",
    "t = Truck('현대', 'black', '1000')\n",
    "print('속도: ', t.speed)  # 처음 속도\n",
    "\n",
    "t.upSpeed()\n",
    "print('속도: ', t.speed) \n",
    "\n",
    "t.boost()\n",
    "print('속도: ', t.speed) \n",
    "\n",
    "t.downSpeed()\n",
    "print('속도: ', t.speed) \n",
    "\n",
    "c = Car('현대', 'red')\n",
    "c.boost()\n",
    "print('속도:', c.speed)   # 부모 클래스에 자식 클래스 내에서 작동하는 메서드는 사용 불가"
   ]
  },
  {
   "cell_type": "code",
   "execution_count": null,
   "id": "fbabca59-65fb-4e8c-9f62-19509c58fdac",
   "metadata": {},
   "outputs": [],
   "source": [
    "# 오버라이딩\n",
    "# 직원(Employee) 클래스\n",
    "# 이름, 월급\n",
    "# 월급을 보는 함수 (get_salary)\n",
    "\n",
    "# 매니저(Manager) 클래스 - 직원 클래스 상속\n",
    "# 직원 월급 * 2\n",
    "# 월급을 볼 때, 월급 * 2"
   ]
  },
  {
   "cell_type": "code",
   "execution_count": 64,
   "id": "5ac894d2-dd25-48f9-b027-52c679e04084",
   "metadata": {},
   "outputs": [
    {
     "data": {
      "text/plain": [
       "(300, 600)"
      ]
     },
     "execution_count": 64,
     "metadata": {},
     "output_type": "execute_result"
    }
   ],
   "source": [
    "class Employee:\n",
    "    def __init__(self, name, salary):\n",
    "        self.name = name\n",
    "        self.salary = salary\n",
    "        \n",
    "    def get_salary(self):\n",
    "        return self.salary\n",
    "        \n",
    "class Manager(Employee):\n",
    "    def __init__(self, name, salary):\n",
    "        super().__init__(name, salary)\n",
    "        \n",
    "    def get_salary(self):\n",
    "        return self.salary * 2\n",
    "        \n",
    "a = Employee('A', 300)\n",
    "b = Manager('B', 300)\n",
    "\n",
    "\n",
    "a.get_salary(), b.get_salary()"
   ]
  },
  {
   "cell_type": "code",
   "execution_count": null,
   "id": "b5cac1d3-49cf-43cb-822c-5b8dbbd3716e",
   "metadata": {},
   "outputs": [],
   "source": []
  },
  {
   "cell_type": "code",
   "execution_count": null,
   "id": "00f38883-64c2-4db5-9a3e-81f885c3886a",
   "metadata": {},
   "outputs": [],
   "source": []
  },
  {
   "cell_type": "code",
   "execution_count": null,
   "id": "abd6b469-e55b-4804-8d89-ef5dd67d82e5",
   "metadata": {},
   "outputs": [],
   "source": []
  },
  {
   "cell_type": "markdown",
   "id": "91e15e54-d17b-445f-9212-5d9b6e460148",
   "metadata": {},
   "source": [
    "# 행렬 및 시각화 라이브러리"
   ]
  },
  {
   "cell_type": "markdown",
   "id": "a9424458-1a12-421a-88f0-ba9b3a0e7505",
   "metadata": {},
   "source": [
    "- Numpy\n",
    "    - 넘파이(Numpy)는 행렬(matrix) 계산을 위한 파이썬 라이브러리 모듈.\n",
    "    - 처리 속도가 중요한 인공지능이나 데이터 과학에서는 파이썬의 리스트 대신에 넘파이를 선호"
   ]
  },
  {
   "cell_type": "markdown",
   "id": "ae5d8102-7624-4e0f-bf81-61eb26538600",
   "metadata": {},
   "source": [
    "- 파이썬 리스트 vs 넘파이 어레이 \n",
    "    - 파이썬 리스트\n",
    "        1. 여러 타입 저장 ex) [1, 2, 3, 4, 'a', 'b', True]\n",
    "        2. 연산 - [1, 2, 3] * 2 = [1, 2, 3, 1, 2, 3]\n",
    "    - 넘파이 어레이\n",
    "        1. 하나의 타입만 저장 가능\n",
    "        2. 연산 - [1, 2, 3] * 2 = [2, 4, 6]"
   ]
  },
  {
   "cell_type": "code",
   "execution_count": 32,
   "id": "cf8c379c-b608-4d34-9ed8-8499f62a09d9",
   "metadata": {},
   "outputs": [],
   "source": [
    "import numpy as np"
   ]
  },
  {
   "cell_type": "code",
   "execution_count": 68,
   "id": "9cfe369b-7ecd-48c7-86be-a2d20f048da9",
   "metadata": {},
   "outputs": [
    {
     "data": {
      "text/plain": [
       "array([2, 4, 3, 4])"
      ]
     },
     "execution_count": 68,
     "metadata": {},
     "output_type": "execute_result"
    }
   ],
   "source": [
    "a = np.array([1, 2, 3, 4])\n",
    "b = np.array([1, 2,])\n",
    "\n",
    "result = a + b\n",
    "\n",
    "result"
   ]
  },
  {
   "cell_type": "code",
   "execution_count": null,
   "id": "d80ca861-fe6d-4dae-9011-93b2eced8fc5",
   "metadata": {},
   "outputs": [],
   "source": []
  },
  {
   "cell_type": "markdown",
   "id": "eb6e078c-f2f6-4552-a7c5-8693bd02f515",
   "metadata": {},
   "source": [
    "### 리스트와 넘파이로 bmi구하기"
   ]
  },
  {
   "cell_type": "code",
   "execution_count": 77,
   "id": "8cc3f8a3-7a0d-4f70-8650-4e711b2284f7",
   "metadata": {},
   "outputs": [],
   "source": [
    "heights = [1.83, 1.75, 1.69, 1.86, 1.77, 1.73]\n",
    "weights = [86, 74, 59, 95, 80, 68]"
   ]
  },
  {
   "cell_type": "code",
   "execution_count": 81,
   "id": "c1dfef06-ed91-4163-9777-ed9666a83708",
   "metadata": {},
   "outputs": [
    {
     "name": "stdout",
     "output_type": "stream",
     "text": [
      "[25.680074054167036, 24.163265306122447, 20.65754000210077, 27.45982194473349, 25.53544639152223, 22.720438370810918]\n"
     ]
    }
   ],
   "source": [
    "# 리스트\n",
    "\n",
    "result = []\n",
    "for h, w in zip(heights, weights):\n",
    "    bmi = w / h **2\n",
    "    result.append(bmi)\n",
    "print(result)"
   ]
  },
  {
   "cell_type": "code",
   "execution_count": 79,
   "id": "b3f73ed7-eb82-47be-a515-d1bee556caec",
   "metadata": {},
   "outputs": [
    {
     "data": {
      "text/plain": [
       "array([25.68007405, 24.16326531, 20.65754   , 27.45982194, 25.53544639,\n",
       "       22.72043837])"
      ]
     },
     "execution_count": 79,
     "metadata": {},
     "output_type": "execute_result"
    }
   ],
   "source": [
    "# 넘파이\n",
    "\n",
    "np_heights = np.array(heights)\n",
    "np_weights = np.array(weights)\n",
    "\n",
    "np_weights/np_heights**2"
   ]
  },
  {
   "cell_type": "code",
   "execution_count": null,
   "id": "55d8c6e1-d03b-4a11-b689-cf803f1beb0d",
   "metadata": {},
   "outputs": [],
   "source": []
  },
  {
   "cell_type": "markdown",
   "id": "be4b5b73-c1ac-4857-bc2e-922083fbb20e",
   "metadata": {},
   "source": [
    "### [numpy 실습]"
   ]
  },
  {
   "cell_type": "markdown",
   "id": "9d0f38cd-c25e-4572-969d-797e82d89c8c",
   "metadata": {},
   "source": [
    "### 1차원 배열"
   ]
  },
  {
   "cell_type": "code",
   "execution_count": 82,
   "id": "ff61b8de-3aaf-4e3e-941d-2ee333b5ace8",
   "metadata": {},
   "outputs": [],
   "source": [
    "data = [1, 2, 3, 4, 5]"
   ]
  },
  {
   "cell_type": "code",
   "execution_count": 83,
   "id": "67bafc41-9b00-4d9e-9953-da1510781fb3",
   "metadata": {},
   "outputs": [],
   "source": [
    "arr = np.array(data)"
   ]
  },
  {
   "cell_type": "code",
   "execution_count": 84,
   "id": "e342622d-ff56-4244-b4db-59396401d774",
   "metadata": {},
   "outputs": [
    {
     "name": "stdout",
     "output_type": "stream",
     "text": [
      "[1, 2, 3, 4, 5] <class 'list'> [1 2 3 4 5] <class 'numpy.ndarray'>\n"
     ]
    }
   ],
   "source": [
    "print(data, type(data), arr, type(arr))"
   ]
  },
  {
   "cell_type": "code",
   "execution_count": 89,
   "id": "5d5c0203-88fc-4a8d-83c5-e6518944ffc3",
   "metadata": {},
   "outputs": [
    {
     "data": {
      "text/plain": [
       "(5,)"
      ]
     },
     "execution_count": 89,
     "metadata": {},
     "output_type": "execute_result"
    }
   ],
   "source": [
    "arr.shape  # arr의 모양"
   ]
  },
  {
   "cell_type": "code",
   "execution_count": 90,
   "id": "badaa7d4-ce73-4f18-a292-5d8f2c5095f2",
   "metadata": {},
   "outputs": [
    {
     "data": {
      "text/plain": [
       "1"
      ]
     },
     "execution_count": 90,
     "metadata": {},
     "output_type": "execute_result"
    }
   ],
   "source": [
    "arr.ndim  # arr의 차원"
   ]
  },
  {
   "cell_type": "code",
   "execution_count": 91,
   "id": "3072f24b-88c8-47b8-b674-95cb636f657d",
   "metadata": {},
   "outputs": [
    {
     "data": {
      "text/plain": [
       "5"
      ]
     },
     "execution_count": 91,
     "metadata": {},
     "output_type": "execute_result"
    }
   ],
   "source": [
    "arr.size  # 배열의 사이즈(칸수)"
   ]
  },
  {
   "cell_type": "code",
   "execution_count": 93,
   "id": "f9aff625-1e80-4732-8ded-5bb6949394f9",
   "metadata": {},
   "outputs": [
    {
     "data": {
      "text/plain": [
       "dtype('int32')"
      ]
     },
     "execution_count": 93,
     "metadata": {},
     "output_type": "execute_result"
    }
   ],
   "source": [
    "arr.dtype # 구성원소들의 형태"
   ]
  },
  {
   "cell_type": "code",
   "execution_count": 95,
   "id": "6166f7c2-ff99-4b0d-b5e9-4b7fd05ebd7f",
   "metadata": {},
   "outputs": [
    {
     "data": {
      "text/plain": [
       "(array([1., 2., 3., 4., 5.]), dtype('float64'))"
      ]
     },
     "execution_count": 95,
     "metadata": {},
     "output_type": "execute_result"
    }
   ],
   "source": [
    "arr2 = np.array([1, 2, 3, 4, 5], dtype=np.float64)\n",
    "arr2, arr2.dtype"
   ]
  },
  {
   "cell_type": "markdown",
   "id": "debed891-34be-4e99-90da-5ae609f7665b",
   "metadata": {},
   "source": [
    "### 2차원 배열"
   ]
  },
  {
   "cell_type": "code",
   "execution_count": 96,
   "id": "a614b452-220e-442c-9f55-796f53a282c7",
   "metadata": {},
   "outputs": [],
   "source": [
    "data = [[1, 2, 3], [4, 5, 6]]\n",
    "arr = np.array(data)"
   ]
  },
  {
   "cell_type": "code",
   "execution_count": 97,
   "id": "1823dd17-412d-421b-9ebe-f775e2cd9183",
   "metadata": {},
   "outputs": [
    {
     "data": {
      "text/plain": [
       "(2, 3)"
      ]
     },
     "execution_count": 97,
     "metadata": {},
     "output_type": "execute_result"
    }
   ],
   "source": [
    "arr.shape"
   ]
  },
  {
   "cell_type": "code",
   "execution_count": 98,
   "id": "7465f8b2-a188-4f93-868e-8357197e7027",
   "metadata": {},
   "outputs": [
    {
     "data": {
      "text/plain": [
       "2"
      ]
     },
     "execution_count": 98,
     "metadata": {},
     "output_type": "execute_result"
    }
   ],
   "source": [
    "arr.ndim"
   ]
  },
  {
   "cell_type": "code",
   "execution_count": 99,
   "id": "f2812256-0679-4aa1-b8c2-b1949772e04b",
   "metadata": {},
   "outputs": [
    {
     "data": {
      "text/plain": [
       "dtype('int32')"
      ]
     },
     "execution_count": 99,
     "metadata": {},
     "output_type": "execute_result"
    }
   ],
   "source": [
    "arr.dtype"
   ]
  },
  {
   "cell_type": "code",
   "execution_count": 100,
   "id": "4f76d425-8069-41c2-8f96-fd0f99275a3d",
   "metadata": {},
   "outputs": [
    {
     "data": {
      "text/plain": [
       "6"
      ]
     },
     "execution_count": 100,
     "metadata": {},
     "output_type": "execute_result"
    }
   ],
   "source": [
    "arr.size"
   ]
  },
  {
   "cell_type": "markdown",
   "id": "89cc3e90-14d7-48bb-ad5d-0c68665630f9",
   "metadata": {},
   "source": [
    "### 3차원 배열"
   ]
  },
  {
   "cell_type": "code",
   "execution_count": 101,
   "id": "ff21cef3-d082-4a1c-83bb-398ebd3833c5",
   "metadata": {},
   "outputs": [],
   "source": [
    "data = [[[1, 2, 3], [4, 5, 6], [7, 8, 9]]]\n",
    "arr = np.array(data)"
   ]
  },
  {
   "cell_type": "code",
   "execution_count": 102,
   "id": "892d7edb-d2ef-4d5a-af4e-7d9344636bf7",
   "metadata": {},
   "outputs": [
    {
     "data": {
      "text/plain": [
       "(1, 3, 3)"
      ]
     },
     "execution_count": 102,
     "metadata": {},
     "output_type": "execute_result"
    }
   ],
   "source": [
    "arr.shape"
   ]
  },
  {
   "cell_type": "code",
   "execution_count": 103,
   "id": "950c648b-97ae-457a-8316-6d2a210386db",
   "metadata": {},
   "outputs": [
    {
     "data": {
      "text/plain": [
       "3"
      ]
     },
     "execution_count": 103,
     "metadata": {},
     "output_type": "execute_result"
    }
   ],
   "source": [
    "arr.ndim"
   ]
  },
  {
   "cell_type": "code",
   "execution_count": 104,
   "id": "3c4af5bc-bfa9-48b8-a0e8-3fd11cd3037a",
   "metadata": {},
   "outputs": [
    {
     "data": {
      "text/plain": [
       "dtype('int32')"
      ]
     },
     "execution_count": 104,
     "metadata": {},
     "output_type": "execute_result"
    }
   ],
   "source": [
    "arr.dtype"
   ]
  },
  {
   "cell_type": "code",
   "execution_count": 105,
   "id": "aa19f3bf-2fa1-4089-a983-dadd9038df86",
   "metadata": {},
   "outputs": [
    {
     "data": {
      "text/plain": [
       "9"
      ]
     },
     "execution_count": 105,
     "metadata": {},
     "output_type": "execute_result"
    }
   ],
   "source": [
    "arr.size"
   ]
  },
  {
   "cell_type": "code",
   "execution_count": null,
   "id": "92e0eae1-f99b-498a-8562-7ef371d952ff",
   "metadata": {},
   "outputs": [],
   "source": []
  },
  {
   "cell_type": "markdown",
   "id": "451f114e-ac17-42c8-b67a-7da00375374f",
   "metadata": {},
   "source": [
    "### 메서드\n",
    "- zeros: 0으로 채워진 ndarray 생성\n",
    "- ones: 1로 채워진 ndarray 생성"
   ]
  },
  {
   "cell_type": "code",
   "execution_count": 115,
   "id": "ffbf63a6-44d6-4aa0-ba46-304a361e570e",
   "metadata": {},
   "outputs": [
    {
     "data": {
      "text/plain": [
       "array([[0., 0., 0., 0., 0.],\n",
       "       [0., 0., 0., 0., 0.],\n",
       "       [0., 0., 0., 0., 0.],\n",
       "       [0., 0., 0., 0., 0.]])"
      ]
     },
     "execution_count": 115,
     "metadata": {},
     "output_type": "execute_result"
    }
   ],
   "source": [
    "# zeros, 2차원 배열 생성 \n",
    "a = np.zeros((4, 5))\n",
    "a"
   ]
  },
  {
   "cell_type": "code",
   "execution_count": 117,
   "id": "5e7e6353-09c8-40a4-83e1-2c0ed6b3b8a5",
   "metadata": {},
   "outputs": [
    {
     "data": {
      "text/plain": [
       "array([[[0., 0., 0.],\n",
       "        [0., 0., 0.],\n",
       "        [0., 0., 0.]],\n",
       "\n",
       "       [[0., 0., 0.],\n",
       "        [0., 0., 0.],\n",
       "        [0., 0., 0.]],\n",
       "\n",
       "       [[0., 0., 0.],\n",
       "        [0., 0., 0.],\n",
       "        [0., 0., 0.]]])"
      ]
     },
     "execution_count": 117,
     "metadata": {},
     "output_type": "execute_result"
    }
   ],
   "source": [
    "# zeros, 3차원 배열 생성\n",
    "b = np.zeros((3, 3, 3))\n",
    "b"
   ]
  },
  {
   "cell_type": "code",
   "execution_count": 123,
   "id": "281dd501-14ff-44b0-b677-c6df10a97ea8",
   "metadata": {},
   "outputs": [
    {
     "data": {
      "text/plain": [
       "(array([1., 1., 1.]),\n",
       " array([[1., 1., 1., 1., 1.],\n",
       "        [1., 1., 1., 1., 1.],\n",
       "        [1., 1., 1., 1., 1.],\n",
       "        [1., 1., 1., 1., 1.]]))"
      ]
     },
     "execution_count": 123,
     "metadata": {},
     "output_type": "execute_result"
    }
   ],
   "source": [
    "# ones\n",
    "\n",
    "c = np.ones(3)\n",
    "d = np.ones((4, 5))\n",
    "c, d"
   ]
  },
  {
   "cell_type": "markdown",
   "id": "27e3fc3e-5806-4f30-9c00-2676e6df67a4",
   "metadata": {},
   "source": [
    "### arange\n",
    "- range와 동일하다\n",
    "- 총 세개 파라미터(시작범위, 끝 범위, 증감폭)"
   ]
  },
  {
   "cell_type": "code",
   "execution_count": 125,
   "id": "fc1ed351-62fd-4fdc-85db-fe97d8d07a6d",
   "metadata": {},
   "outputs": [
    {
     "data": {
      "text/plain": [
       "array([ 1,  2,  3,  4,  5,  6,  7,  8,  9, 10])"
      ]
     },
     "execution_count": 125,
     "metadata": {},
     "output_type": "execute_result"
    }
   ],
   "source": [
    "a = np.arange(1, 11)\n",
    "a"
   ]
  },
  {
   "cell_type": "code",
   "execution_count": 127,
   "id": "f87259b6-2556-4b11-a3d5-44ac85ea4f1b",
   "metadata": {},
   "outputs": [
    {
     "data": {
      "text/plain": [
       "array([  2,   4,   6,   8,  10,  12,  14,  16,  18,  20,  22,  24,  26,\n",
       "        28,  30,  32,  34,  36,  38,  40,  42,  44,  46,  48,  50,  52,\n",
       "        54,  56,  58,  60,  62,  64,  66,  68,  70,  72,  74,  76,  78,\n",
       "        80,  82,  84,  86,  88,  90,  92,  94,  96,  98, 100])"
      ]
     },
     "execution_count": 127,
     "metadata": {},
     "output_type": "execute_result"
    }
   ],
   "source": [
    "b = np.arange(2, 101, 2)\n",
    "b"
   ]
  },
  {
   "cell_type": "markdown",
   "id": "ef3a5840-9016-471a-99e9-76636d0ba30f",
   "metadata": {},
   "source": [
    "### reshape\n",
    "- 데이터의 형태를 바꾼다."
   ]
  },
  {
   "cell_type": "code",
   "execution_count": 129,
   "id": "a31d9b8b-08df-4b69-9b6b-3c7833ae1944",
   "metadata": {},
   "outputs": [
    {
     "data": {
      "text/plain": [
       "array([ 0,  1,  2,  3,  4,  5,  6,  7,  8,  9, 10, 11, 12, 13, 14, 15, 16,\n",
       "       17, 18, 19])"
      ]
     },
     "execution_count": 129,
     "metadata": {},
     "output_type": "execute_result"
    }
   ],
   "source": [
    "data = np.arange(20)\n",
    "data"
   ]
  },
  {
   "cell_type": "code",
   "execution_count": 133,
   "id": "fd35e990-8a85-4aa3-8c21-9380a87977c7",
   "metadata": {},
   "outputs": [
    {
     "data": {
      "text/plain": [
       "array([[[ 0,  1,  2,  3,  4],\n",
       "        [ 5,  6,  7,  8,  9]],\n",
       "\n",
       "       [[10, 11, 12, 13, 14],\n",
       "        [15, 16, 17, 18, 19]]])"
      ]
     },
     "execution_count": 133,
     "metadata": {},
     "output_type": "execute_result"
    }
   ],
   "source": [
    "# 위 data 형태를 3차원으로 변경\n",
    "\n",
    "data.reshape(2, 2, 5)"
   ]
  },
  {
   "cell_type": "code",
   "execution_count": 136,
   "id": "6ae7a929-ba2d-4937-ad61-6b6e2f9a75ad",
   "metadata": {},
   "outputs": [
    {
     "data": {
      "text/plain": [
       "array([[ 0,  1,  2,  3,  4,  5,  6,  7,  8,  9],\n",
       "       [10, 11, 12, 13, 14, 15, 16, 17, 18, 19]])"
      ]
     },
     "execution_count": 136,
     "metadata": {},
     "output_type": "execute_result"
    }
   ],
   "source": [
    "# 2행에 맞춰 나머지 열을 데이터 사이즈에 맞게 자동으로 조정\n",
    "\n",
    "data.reshape(2, -1)"
   ]
  },
  {
   "cell_type": "code",
   "execution_count": null,
   "id": "eb25d7bc-e8c6-4395-9d91-48d2c1f8fd85",
   "metadata": {},
   "outputs": [],
   "source": []
  },
  {
   "cell_type": "markdown",
   "id": "62ad710c-96d6-45ad-9c3c-0bb2363e5d98",
   "metadata": {},
   "source": [
    "### type\n",
    "- bool : 불리언형 (True, False)\n",
    "- int8 : 정수형 (-2^7 ~ 2^7 - 1)\n",
    "- int16 : 정수형 (-2^15 ~ 2^15 - 1)\n",
    "- int32 : 정수형 (-2^31 ~ 2^31 - 1)\n",
    "- uint8 : 부호가 없는 정수형(0 ~ 2^8 - 1)\n",
    "- uint16 : 부호가 없는 정수형(0 ~ 2^16 - 1)\n",
    "...\n",
    "...\n",
    "- float16 : 실수형\n",
    "- float32 : 실수형\n",
    "- float64 : 실수형 (float뒤에 수가 클수록 소수점 뒷자리를 더 많이 표현하므로 정확도가 높을 수 있다.)\n",
    "- string : 문자열"
   ]
  },
  {
   "cell_type": "code",
   "execution_count": null,
   "id": "dd667102-344c-4699-bf1c-da122f3aa113",
   "metadata": {},
   "outputs": [],
   "source": []
  },
  {
   "cell_type": "markdown",
   "id": "e5bd74bb-60a2-48e7-8276-2a3fff54e087",
   "metadata": {},
   "source": [
    "### Indexing, Slicing"
   ]
  },
  {
   "cell_type": "code",
   "execution_count": 138,
   "id": "53882017-85a1-4f83-a5dc-53b6bba98833",
   "metadata": {},
   "outputs": [
    {
     "data": {
      "text/plain": [
       "2"
      ]
     },
     "execution_count": 138,
     "metadata": {},
     "output_type": "execute_result"
    }
   ],
   "source": [
    "m = np.array([1, 2, 3])\n",
    "m[1]"
   ]
  },
  {
   "cell_type": "code",
   "execution_count": 140,
   "id": "dfe6b042-c201-4e4e-bc5f-ecb7f31ad668",
   "metadata": {},
   "outputs": [
    {
     "data": {
      "text/plain": [
       "array([[0, 1, 2],\n",
       "       [3, 4, 5],\n",
       "       [6, 7, 8]])"
      ]
     },
     "execution_count": 140,
     "metadata": {},
     "output_type": "execute_result"
    }
   ],
   "source": [
    "# 0부터 8까지 원소를 가지는 3x3 2차원 배열 만들기\n",
    "n = np.arange(9).reshape(3, 3)\n",
    "n"
   ]
  },
  {
   "cell_type": "code",
   "execution_count": 141,
   "id": "a0339ff6-2a34-47ae-bd65-6e0eeee3297a",
   "metadata": {},
   "outputs": [
    {
     "data": {
      "text/plain": [
       "4"
      ]
     },
     "execution_count": 141,
     "metadata": {},
     "output_type": "execute_result"
    }
   ],
   "source": [
    "n[1][1]"
   ]
  },
  {
   "cell_type": "code",
   "execution_count": 142,
   "id": "8043f67a-241c-421e-a2c5-662998821fd7",
   "metadata": {},
   "outputs": [
    {
     "data": {
      "text/plain": [
       "8"
      ]
     },
     "execution_count": 142,
     "metadata": {},
     "output_type": "execute_result"
    }
   ],
   "source": [
    "n[2][2]"
   ]
  },
  {
   "cell_type": "code",
   "execution_count": 148,
   "id": "2a5aa745-53a9-4f91-8deb-93bd3ff6cab0",
   "metadata": {},
   "outputs": [
    {
     "data": {
      "text/plain": [
       "array([[4, 5],\n",
       "       [7, 8]])"
      ]
     },
     "execution_count": 148,
     "metadata": {},
     "output_type": "execute_result"
    }
   ],
   "source": [
    "n[1:3, 1:3]"
   ]
  },
  {
   "cell_type": "code",
   "execution_count": null,
   "id": "bdb85ebf-b49b-4b62-8d59-2b5a9a9b1a85",
   "metadata": {},
   "outputs": [],
   "source": []
  },
  {
   "cell_type": "markdown",
   "id": "c084dd2b-7f03-4f43-82cd-8781f13db139",
   "metadata": {},
   "source": [
    "### 수치 연산, 함수\n",
    "- axis = 0 : 각 행들을 계산\n",
    "- axis = 1 : 각 열들을 계산\n",
    "\n",
    "- 덧셈 : sum()\n",
    "- 최댓값, 최솟값 : max(), min()\n",
    "- 평균 : mean()\n",
    "- 표준편차 : std()\n",
    "- 분산 : var()"
   ]
  },
  {
   "cell_type": "code",
   "execution_count": 150,
   "id": "5230f464-fe72-4aa7-aabd-1f10dd5245a4",
   "metadata": {},
   "outputs": [
    {
     "data": {
      "text/plain": [
       "array([[0, 1],\n",
       "       [2, 3],\n",
       "       [4, 5],\n",
       "       [6, 7],\n",
       "       [8, 9]])"
      ]
     },
     "execution_count": 150,
     "metadata": {},
     "output_type": "execute_result"
    }
   ],
   "source": [
    "d = np.arange(10).reshape(5, 2)\n",
    "d"
   ]
  },
  {
   "cell_type": "code",
   "execution_count": 154,
   "id": "956b9b9a-78c0-407a-8faf-8c0facc5d429",
   "metadata": {},
   "outputs": [
    {
     "data": {
      "text/plain": [
       "array([20, 25])"
      ]
     },
     "execution_count": 154,
     "metadata": {},
     "output_type": "execute_result"
    }
   ],
   "source": [
    "# 각 행들의 합을 계산\n",
    "\n",
    "d.sum(axis=0)"
   ]
  },
  {
   "cell_type": "code",
   "execution_count": 155,
   "id": "253ab9da-9ce5-431e-8164-610557569a1f",
   "metadata": {},
   "outputs": [
    {
     "data": {
      "text/plain": [
       "array([ 1,  5,  9, 13, 17])"
      ]
     },
     "execution_count": 155,
     "metadata": {},
     "output_type": "execute_result"
    }
   ],
   "source": [
    "# 각 열들의 합을 계산\n",
    "\n",
    "d.sum(axis=1)"
   ]
  },
  {
   "cell_type": "code",
   "execution_count": 156,
   "id": "5cfaee81-1468-4d6d-9932-54a5faca12b2",
   "metadata": {},
   "outputs": [
    {
     "data": {
      "text/plain": [
       "array([1, 3, 5, 7, 9])"
      ]
     },
     "execution_count": 156,
     "metadata": {},
     "output_type": "execute_result"
    }
   ],
   "source": [
    "d.max(axis=1)"
   ]
  },
  {
   "cell_type": "code",
   "execution_count": null,
   "id": "894c5752-2ea5-4a46-b07b-d61e053197e8",
   "metadata": {},
   "outputs": [],
   "source": []
  },
  {
   "cell_type": "markdown",
   "id": "45809892-3c4c-4453-98f2-d0a61785c389",
   "metadata": {},
   "source": [
    "## Matplotlib(시각화 라이브러리)"
   ]
  },
  {
   "cell_type": "code",
   "execution_count": 2,
   "id": "abe5574e-41c7-4b79-b7fe-ac9e5c9f995c",
   "metadata": {},
   "outputs": [
    {
     "data": {
      "image/png": "[encoded data removed]",
      "text/plain": [
       "<Figure size 640x480 with 1 Axes>"
      ]
     },
     "metadata": {},
     "output_type": "display_data"
    }
   ],
   "source": [
    "import matplotlib.pyplot as plt\n",
    "\n",
    "X = [1, 2, 3, 4, 5, 6, 7]\n",
    "Y = [15.6, 14.2, 16.3, 18.2, 17.1, 15.0, 19.2]\n",
    "plt.plot(X, Y)\n",
    "plt.xlabel('day'); plt.ylabel('temperature')\n",
    "plt.show()"
   ]
  },
  {
   "cell_type": "code",
   "execution_count": 4,
   "id": "38f0d7e8-a015-43f2-95ec-8673a63f5e4b",
   "metadata": {},
   "outputs": [
    {
     "data": {
      "text/plain": [
       "[<matplotlib.lines.Line2D at 0x231c0986140>]"
      ]
     },
     "execution_count": 4,
     "metadata": {},
     "output_type": "execute_result"
    },
    {
     "data": {
      "image/png": "[encoded data removed]",
      "text/plain": [
       "<Figure size 640x480 with 1 Axes>"
      ]
     },
     "metadata": {},
     "output_type": "display_data"
    }
   ],
   "source": [
    "X = [1, 2, 3, 4, 5]\n",
    "Y = [2.1, 2.2, 3.1, 1.3, 5.3]\n",
    "\n",
    "plt.plot(X, Y)"
   ]
  },
  {
   "cell_type": "code",
   "execution_count": null,
   "id": "3cef19de-9023-4726-a603-407a8bf64dc0",
   "metadata": {},
   "outputs": [],
   "source": []
  },
  {
   "cell_type": "code",
   "execution_count": 20,
   "id": "d679cd03-26ab-4037-ab9b-60ebf0955424",
   "metadata": {},
   "outputs": [],
   "source": [
    "# 파이썬 시각화 패키지 불러오기\n",
    "import matplotlib.pyplot as plt\n",
    "%matplotlib inline\n",
    "# 사용자 운영체제 확인\n",
    "import platform\n",
    "platform.system()\n",
    "# 운영체제별 한글 폰트 설정\n",
    "if platform.system() == 'Darwin': # Mac 환경 폰트 설정\n",
    "    plt.rc('font', family='AppleGothic')\n",
    "elif platform.system() == 'Windows': # Windows 환경 폰트 설정\n",
    "    plt.rc('font', family='Malgun Gothic')\n",
    "plt.rc('axes', unicode_minus=False) # 마이너스 폰트 설정\n",
    "# 글씨 선명하게 출력하는 설정\n",
    "%config InlineBackend.figure_format = 'retina'"
   ]
  },
  {
   "cell_type": "code",
   "execution_count": 30,
   "id": "c8040d56-3955-441c-a9c3-af04c0c2c95c",
   "metadata": {},
   "outputs": [
    {
     "data": {
      "image/png": "[encoded data removed]",
      "text/plain": [
       "<Figure size 640x480 with 1 Axes>"
      ]
     },
     "metadata": {
      "image/png": {
       "height": 454,
       "width": 561
      }
     },
     "output_type": "display_data"
    }
   ],
   "source": [
    "X = ['Mon', 'Tue', 'Wed', 'Thu', 'Fri', 'Sat', 'Sun']\n",
    "Y = [15.6, 14.2, 16.3, 18.2, 17.1, 15.0, 19.2]   # 한국\n",
    "Y2 = [21.6, 20.2, 19.3, 14.2, 23.1, 20.0, 22.2]  # 미국\n",
    "\n",
    "# plt.plot(X, Y, X, Y2)\n",
    "plt.plot(X, Y, label = '한국', linestyle = '-.')\n",
    "plt.plot(X, Y2, label = '미국', linestyle = ':')\n",
    "\n",
    "plt.legend(loc='lower left')\n",
    "\n",
    "plt.xlabel('Day')\n",
    "plt.ylabel('Temperature')\n",
    "\n",
    "plt.title('Temperature of Cities')\n",
    "plt.show()"
   ]
  },
  {
   "cell_type": "code",
   "execution_count": 37,
   "id": "82834fa2-0149-4278-bef2-4a8da9c28f00",
   "metadata": {},
   "outputs": [
    {
     "data": {
      "image/png": "[encoded data removed]",
      "text/plain": [
       "<Figure size 640x480 with 1 Axes>"
      ]
     },
     "metadata": {
      "image/png": {
       "height": 413,
       "width": 540
      }
     },
     "output_type": "display_data"
    }
   ],
   "source": [
    "X = [1, 2, 3, 4]\n",
    "Y = [10, 20, 30, 40]\n",
    "\n",
    "plt.plot(X, Y, 'sm')\n",
    "plt.grid(axis='y', color='b', linestyle='-', linewidth=0.5)"
   ]
  },
  {
   "cell_type": "code",
   "execution_count": 49,
   "id": "d7f26740-8c03-452a-8949-b7c6c03c20b8",
   "metadata": {},
   "outputs": [
    {
     "data": {
      "image/png": "[encoded data removed]",
      "text/plain": [
       "<Figure size 640x480 with 1 Axes>"
      ]
     },
     "metadata": {
      "image/png": {
       "height": 413,
       "width": 567
      }
     },
     "output_type": "display_data"
    }
   ],
   "source": [
    "X = np.arange(2, 20, 2)\n",
    "\n",
    "plt.plot(X, X**2)\n",
    "\n",
    "plt.xticks([2, 6, 10, 14, 18])\n",
    "plt.yticks([0, 100, 200, 300], labels = ['비정상', '정상', '경고', '위험'])\n",
    "plt.show()"
   ]
  },
  {
   "cell_type": "code",
   "execution_count": 54,
   "id": "bb8e26cd-b060-4f8c-9df7-8abc554597aa",
   "metadata": {},
   "outputs": [
    {
     "data": {
      "text/plain": [
       "<BarContainer object of 3 artists>"
      ]
     },
     "execution_count": 54,
     "metadata": {},
     "output_type": "execute_result"
    },
    {
     "data": {
      "image/png": "[encoded data removed]",
      "text/plain": [
       "<Figure size 640x480 with 1 Axes>"
      ]
     },
     "metadata": {
      "image/png": {
       "height": 413,
       "width": 551
      }
     },
     "output_type": "display_data"
    }
   ],
   "source": [
    "X = [1, 2, 3]\n",
    "Y = [100, 200, 300]\n",
    "\n",
    "plt.bar(X, Y, color='orange')"
   ]
  },
  {
   "cell_type": "code",
   "execution_count": 55,
   "id": "7f990155-681f-4eb2-ac4b-46c6d371b45a",
   "metadata": {},
   "outputs": [
    {
     "data": {
      "text/plain": [
       "<BarContainer object of 3 artists>"
      ]
     },
     "execution_count": 55,
     "metadata": {},
     "output_type": "execute_result"
    },
    {
     "data": {
      "image/png": "[encoded data removed]",
      "text/plain": [
       "<Figure size 640x480 with 1 Axes>"
      ]
     },
     "metadata": {
      "image/png": {
       "height": 414,
       "width": 543
      }
     },
     "output_type": "display_data"
    }
   ],
   "source": [
    "X = [1, 2, 3]\n",
    "Y = [100, 200, 300]\n",
    "\n",
    "plt.barh(X, Y, color='orange')"
   ]
  },
  {
   "cell_type": "code",
   "execution_count": 64,
   "id": "cfaff3fa-0f92-4dfa-b6c0-3c0f760fc983",
   "metadata": {},
   "outputs": [
    {
     "data": {
      "text/plain": [
       "([<matplotlib.patches.Wedge at 0x231c47bf970>,\n",
       "  <matplotlib.patches.Wedge at 0x231c47e8040>,\n",
       "  <matplotlib.patches.Wedge at 0x231c47e85b0>],\n",
       " [Text(0.8899186877588753, 0.6465637858537406, '탄수화물'),\n",
       "  Text(-0.64656382751384, 0.8899186574910392, '단백질'),\n",
       "  Text(1.0298943251329445e-07, -1.0999999999999954, '지방')],\n",
       " [Text(0.4854101933230228, 0.35267115592022213, '20%'),\n",
       "  Text(-0.35267117864391273, 0.485410176813294, '30%'),\n",
       "  Text(5.61760540981606e-08, -0.5999999999999974, '50%')])"
      ]
     },
     "execution_count": 64,
     "metadata": {},
     "output_type": "execute_result"
    },
    {
     "data": {
      "image/png": "[encoded data removed]",
      "text/plain": [
       "<Figure size 640x480 with 1 Axes>"
      ]
     },
     "metadata": {
      "image/png": {
       "height": 389,
       "width": 391
      }
     },
     "output_type": "display_data"
    }
   ],
   "source": [
    "ratio = [20, 30, 50]\n",
    "labels = ['탄수화물', '단백질', '지방']\n",
    "\n",
    "plt.pie(ratio, labels = labels, autopct='%1.f%%')"
   ]
  },
  {
   "cell_type": "code",
   "execution_count": 75,
   "id": "35787e02-8cb7-4016-a5f8-cb870d964ec6",
   "metadata": {},
   "outputs": [],
   "source": [
    "# bmi = weights / height ** 2\n",
    "# ~18.5 저체중\n",
    "# 18.5 ~ 22.9 정상\n",
    "# 23.0 ~ 24.9 과체중\n",
    "# 30.0 ~ 비만\n",
    "\n",
    "weights = [79.8, 92.8, 70.2, 67.5]\n",
    "heights = [1.78, 1.62, 1.82, 1.70]\n",
    "students = ['철수', '영희', '민지', '민수']"
   ]
  },
  {
   "cell_type": "code",
   "execution_count": 76,
   "id": "3d92a1fd-8fe2-4e4e-9cf7-98aa7fd6c0bf",
   "metadata": {},
   "outputs": [
    {
     "name": "stdout",
     "output_type": "stream",
     "text": [
      "[25.18621386 35.36046334 21.19309262 23.35640138]\n"
     ]
    }
   ],
   "source": [
    "arr_w = np.array(weights)\n",
    "arr_h = np.array(heights)\n",
    "\n",
    "bmi = arr_w / (arr_h ** 2)\n",
    "print(bmi)"
   ]
  },
  {
   "cell_type": "code",
   "execution_count": 82,
   "id": "dadef2d0-dc21-45a2-a3e5-09c0de6d179c",
   "metadata": {},
   "outputs": [
    {
     "ename": "ValueError",
     "evalue": "The number of FixedLocator locations (4), usually from a call to set_ticks, does not match the number of ticklabels (1).",
     "output_type": "error",
     "traceback": [
      "\u001b[1;31m---------------------------------------------------------------------------\u001b[0m",
      "\u001b[1;31mValueError\u001b[0m                                Traceback (most recent call last)",
      "Cell \u001b[1;32mIn [82], line 2\u001b[0m\n\u001b[0;32m      1\u001b[0m plt\u001b[38;5;241m.\u001b[39mbar(students, bmi)\n\u001b[1;32m----> 2\u001b[0m \u001b[43mplt\u001b[49m\u001b[38;5;241;43m.\u001b[39;49m\u001b[43myticks\u001b[49m\u001b[43m(\u001b[49m\u001b[43m[\u001b[49m\u001b[38;5;241;43m18.5\u001b[39;49m\u001b[43m,\u001b[49m\u001b[43m \u001b[49m\u001b[38;5;241;43m22.9\u001b[39;49m\u001b[43m,\u001b[49m\u001b[43m \u001b[49m\u001b[38;5;241;43m24.9\u001b[39;49m\u001b[43m,\u001b[49m\u001b[43m \u001b[49m\u001b[38;5;241;43m30.0\u001b[39;49m\u001b[43m]\u001b[49m\u001b[43m,\u001b[49m\u001b[43m \u001b[49m\u001b[43mlabels\u001b[49m\u001b[43m \u001b[49m\u001b[38;5;241;43m=\u001b[39;49m\u001b[43m \u001b[49m\u001b[43m[\u001b[49m\u001b[38;5;124;43m'\u001b[39;49m\u001b[38;5;124;43m저체중, 정상체중, 과체중, 비만\u001b[39;49m\u001b[38;5;124;43m'\u001b[39;49m\u001b[43m]\u001b[49m\u001b[43m)\u001b[49m\n",
      "File \u001b[1;32m~\\.venv\\Practice1\\lib\\site-packages\\matplotlib\\pyplot.py:1887\u001b[0m, in \u001b[0;36myticks\u001b[1;34m(ticks, labels, minor, **kwargs)\u001b[0m\n\u001b[0;32m   1885\u001b[0m         l\u001b[38;5;241m.\u001b[39m_internal_update(kwargs)\n\u001b[0;32m   1886\u001b[0m \u001b[38;5;28;01melse\u001b[39;00m:\n\u001b[1;32m-> 1887\u001b[0m     labels \u001b[38;5;241m=\u001b[39m ax\u001b[38;5;241m.\u001b[39mset_yticklabels(labels, minor\u001b[38;5;241m=\u001b[39mminor, \u001b[38;5;241m*\u001b[39m\u001b[38;5;241m*\u001b[39mkwargs)\n\u001b[0;32m   1889\u001b[0m \u001b[38;5;28;01mreturn\u001b[39;00m locs, labels\n",
      "File \u001b[1;32m~\\.venv\\Practice1\\lib\\site-packages\\matplotlib\\axes\\_base.py:73\u001b[0m, in \u001b[0;36m_axis_method_wrapper.__set_name__.<locals>.wrapper\u001b[1;34m(self, *args, **kwargs)\u001b[0m\n\u001b[0;32m     72\u001b[0m \u001b[38;5;28;01mdef\u001b[39;00m \u001b[38;5;21mwrapper\u001b[39m(\u001b[38;5;28mself\u001b[39m, \u001b[38;5;241m*\u001b[39margs, \u001b[38;5;241m*\u001b[39m\u001b[38;5;241m*\u001b[39mkwargs):\n\u001b[1;32m---> 73\u001b[0m     \u001b[38;5;28;01mreturn\u001b[39;00m get_method(\u001b[38;5;28mself\u001b[39m)(\u001b[38;5;241m*\u001b[39margs, \u001b[38;5;241m*\u001b[39m\u001b[38;5;241m*\u001b[39mkwargs)\n",
      "File \u001b[1;32m~\\.venv\\Practice1\\lib\\site-packages\\matplotlib\\axis.py:1968\u001b[0m, in \u001b[0;36mAxis._set_ticklabels\u001b[1;34m(self, labels, fontdict, minor, **kwargs)\u001b[0m\n\u001b[0;32m   1966\u001b[0m \u001b[38;5;28;01mif\u001b[39;00m fontdict \u001b[38;5;129;01mis\u001b[39;00m \u001b[38;5;129;01mnot\u001b[39;00m \u001b[38;5;28;01mNone\u001b[39;00m:\n\u001b[0;32m   1967\u001b[0m     kwargs\u001b[38;5;241m.\u001b[39mupdate(fontdict)\n\u001b[1;32m-> 1968\u001b[0m \u001b[38;5;28;01mreturn\u001b[39;00m \u001b[38;5;28mself\u001b[39m\u001b[38;5;241m.\u001b[39mset_ticklabels(labels, minor\u001b[38;5;241m=\u001b[39mminor, \u001b[38;5;241m*\u001b[39m\u001b[38;5;241m*\u001b[39mkwargs)\n",
      "File \u001b[1;32m~\\.venv\\Practice1\\lib\\site-packages\\matplotlib\\axis.py:1890\u001b[0m, in \u001b[0;36mAxis.set_ticklabels\u001b[1;34m(self, ticklabels, minor, **kwargs)\u001b[0m\n\u001b[0;32m   1886\u001b[0m \u001b[38;5;28;01mif\u001b[39;00m \u001b[38;5;28misinstance\u001b[39m(locator, mticker\u001b[38;5;241m.\u001b[39mFixedLocator):\n\u001b[0;32m   1887\u001b[0m     \u001b[38;5;66;03m# Passing [] as a list of ticklabels is often used as a way to\u001b[39;00m\n\u001b[0;32m   1888\u001b[0m     \u001b[38;5;66;03m# remove all tick labels, so only error for > 0 ticklabels\u001b[39;00m\n\u001b[0;32m   1889\u001b[0m     \u001b[38;5;28;01mif\u001b[39;00m \u001b[38;5;28mlen\u001b[39m(locator\u001b[38;5;241m.\u001b[39mlocs) \u001b[38;5;241m!=\u001b[39m \u001b[38;5;28mlen\u001b[39m(ticklabels) \u001b[38;5;129;01mand\u001b[39;00m \u001b[38;5;28mlen\u001b[39m(ticklabels) \u001b[38;5;241m!=\u001b[39m \u001b[38;5;241m0\u001b[39m:\n\u001b[1;32m-> 1890\u001b[0m         \u001b[38;5;28;01mraise\u001b[39;00m \u001b[38;5;167;01mValueError\u001b[39;00m(\n\u001b[0;32m   1891\u001b[0m             \u001b[38;5;124m\"\u001b[39m\u001b[38;5;124mThe number of FixedLocator locations\u001b[39m\u001b[38;5;124m\"\u001b[39m\n\u001b[0;32m   1892\u001b[0m             \u001b[38;5;124mf\u001b[39m\u001b[38;5;124m\"\u001b[39m\u001b[38;5;124m (\u001b[39m\u001b[38;5;132;01m{\u001b[39;00m\u001b[38;5;28mlen\u001b[39m(locator\u001b[38;5;241m.\u001b[39mlocs)\u001b[38;5;132;01m}\u001b[39;00m\u001b[38;5;124m), usually from a call to\u001b[39m\u001b[38;5;124m\"\u001b[39m\n\u001b[0;32m   1893\u001b[0m             \u001b[38;5;124m\"\u001b[39m\u001b[38;5;124m set_ticks, does not match\u001b[39m\u001b[38;5;124m\"\u001b[39m\n\u001b[0;32m   1894\u001b[0m             \u001b[38;5;124mf\u001b[39m\u001b[38;5;124m\"\u001b[39m\u001b[38;5;124m the number of ticklabels (\u001b[39m\u001b[38;5;132;01m{\u001b[39;00m\u001b[38;5;28mlen\u001b[39m(ticklabels)\u001b[38;5;132;01m}\u001b[39;00m\u001b[38;5;124m).\u001b[39m\u001b[38;5;124m\"\u001b[39m)\n\u001b[0;32m   1895\u001b[0m     tickd \u001b[38;5;241m=\u001b[39m {loc: lab \u001b[38;5;28;01mfor\u001b[39;00m loc, lab \u001b[38;5;129;01min\u001b[39;00m \u001b[38;5;28mzip\u001b[39m(locator\u001b[38;5;241m.\u001b[39mlocs, ticklabels)}\n\u001b[0;32m   1896\u001b[0m     func \u001b[38;5;241m=\u001b[39m functools\u001b[38;5;241m.\u001b[39mpartial(\u001b[38;5;28mself\u001b[39m\u001b[38;5;241m.\u001b[39m_format_with_dict, tickd)\n",
      "\u001b[1;31mValueError\u001b[0m: The number of FixedLocator locations (4), usually from a call to set_ticks, does not match the number of ticklabels (1)."
     ]
    },
    {
     "data": {
      "image/png": "[encoded data removed]",
      "text/plain": [
       "<Figure size 640x480 with 1 Axes>"
      ]
     },
     "metadata": {
      "image/png": {
       "height": 413,
       "width": 551
      }
     },
     "output_type": "display_data"
    }
   ],
   "source": [
    "plt.bar(students, bmi)\n",
    "plt.yticks([18.5, 22.9, 24.9, 30.0], labels = ['저체중, 정상체중, 과체중, 비만'])"
   ]
  }
 ],
 "metadata": {
  "kernelspec": {
   "display_name": "Python 3 (ipykernel)",
   "language": "python",
   "name": "python3"
  },
  "language_info": {
   "codemirror_mode": {
    "name": "ipython",
    "version": 3
   },
   "file_extension": ".py",
   "mimetype": "text/x-python",
   "name": "python",
   "nbconvert_exporter": "python",
   "pygments_lexer": "ipython3",
   "version": "3.10.7"
  }
 },
 "nbformat": 4,
 "nbformat_minor": 5
}
