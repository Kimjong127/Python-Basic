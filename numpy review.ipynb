{
 "cells": [
  {
   "cell_type": "markdown",
   "id": "c5d45020-96e6-487e-a16b-9137ccf11142",
   "metadata": {},
   "source": [
    "# numpy\n",
    " - ndarray"
   ]
  },
  {
   "cell_type": "code",
   "execution_count": 1,
   "id": "d3103c25-6d4d-4918-b6e2-b3119cbe9027",
   "metadata": {},
   "outputs": [],
   "source": [
    "import numpy as np"
   ]
  },
  {
   "cell_type": "code",
   "execution_count": 3,
   "id": "c7990371-19b9-45e8-b3db-c40e499ffc26",
   "metadata": {},
   "outputs": [
    {
     "data": {
      "text/plain": [
       "array([1, 2, 3, 4])"
      ]
     },
     "execution_count": 3,
     "metadata": {},
     "output_type": "execute_result"
    }
   ],
   "source": [
    "# np.array()\n",
    "x = np.array([1,2,3,4])\n",
    "x"
   ]
  },
  {
   "cell_type": "code",
   "execution_count": 4,
   "id": "7ff9e0d7-7b66-49d7-8297-d6256e35e254",
   "metadata": {},
   "outputs": [
    {
     "data": {
      "text/plain": [
       "(4,)"
      ]
     },
     "execution_count": 4,
     "metadata": {},
     "output_type": "execute_result"
    }
   ],
   "source": [
    "x.shape   # 차수 : axis=0, axis=1"
   ]
  },
  {
   "cell_type": "code",
   "execution_count": 120,
   "id": "57554381-45ed-4e96-a4ce-96b9c518a509",
   "metadata": {},
   "outputs": [
    {
     "data": {
      "text/plain": [
       "array([[5.98193043e-154, 1.15312601e+214, 1.21698086e-152,\n",
       "        3.62479373e+228, 3.68067498e+180],\n",
       "       [5.75678486e+252, 1.81596891e-152, 2.44087561e-154,\n",
       "        2.61261326e+257, 1.10755182e+054],\n",
       "       [9.78375158e+199, 4.24387585e+222, 5.22376873e+257,\n",
       "        2.69271725e+161, 2.69271725e+161],\n",
       "       [6.32976576e-119, 1.48301412e+185, 7.53046676e+252,\n",
       "        5.98185637e-154, 6.99497719e+228]])"
      ]
     },
     "execution_count": 120,
     "metadata": {},
     "output_type": "execute_result"
    }
   ],
   "source": [
    "# np.ndarray() 클래스\n",
    "x = np.ndarray(shape=(4,5))\n",
    "x"
   ]
  },
  {
   "cell_type": "code",
   "execution_count": 121,
   "id": "1c856395-deb3-49d5-ba1a-efe2297fffc6",
   "metadata": {},
   "outputs": [
    {
     "data": {
      "text/plain": [
       "(4, 5)"
      ]
     },
     "execution_count": 121,
     "metadata": {},
     "output_type": "execute_result"
    }
   ],
   "source": [
    "x.shape"
   ]
  },
  {
   "cell_type": "code",
   "execution_count": 122,
   "id": "db5b5a71-fb70-4eb6-992d-2767bbe4eb61",
   "metadata": {},
   "outputs": [
    {
     "data": {
      "text/plain": [
       "2"
      ]
     },
     "execution_count": 122,
     "metadata": {},
     "output_type": "execute_result"
    }
   ],
   "source": [
    "x.ndim"
   ]
  },
  {
   "cell_type": "code",
   "execution_count": 123,
   "id": "5ad8ebc7-4c0f-4c49-876e-7ea127eb9400",
   "metadata": {},
   "outputs": [
    {
     "data": {
      "text/plain": [
       "20"
      ]
     },
     "execution_count": 123,
     "metadata": {},
     "output_type": "execute_result"
    }
   ],
   "source": [
    "x.size"
   ]
  },
  {
   "cell_type": "code",
   "execution_count": 12,
   "id": "25c58698-f00c-4c9f-ac3a-775476ee74b1",
   "metadata": {
    "tags": []
   },
   "outputs": [
    {
     "data": {
      "text/plain": [
       "dtype('float64')"
      ]
     },
     "execution_count": 12,
     "metadata": {},
     "output_type": "execute_result"
    }
   ],
   "source": [
    "x.dtype  # 데이터형식"
   ]
  },
  {
   "cell_type": "markdown",
   "id": "fe390c15-98f3-408e-8a8a-744ebd54e799",
   "metadata": {},
   "source": [
    "데이터 형식 : 약어 + 바이트 수"
   ]
  },
  {
   "cell_type": "code",
   "execution_count": 124,
   "id": "7f06127c-3859-4faa-8f64-0ec8d097a79c",
   "metadata": {},
   "outputs": [
    {
     "data": {
      "text/plain": [
       "array([[0.       , 4.9765625, 0.       , 0.       , 0.       ],\n",
       "       [5.232422 , 0.       , 0.       , 0.       , 5.4765625],\n",
       "       [0.       , 0.       , 0.       , 5.6103516, 0.       ],\n",
       "       [0.       , 0.       , 5.732422 , 0.       , 0.       ]],\n",
       "      dtype=float32)"
      ]
     },
     "execution_count": 124,
     "metadata": {},
     "output_type": "execute_result"
    }
   ],
   "source": [
    "# np.ndarray() 클래스\n",
    "x = np.ndarray(shape=(4,5), dtype=np.float32)  \n",
    "x"
   ]
  },
  {
   "cell_type": "code",
   "execution_count": 125,
   "id": "fec780b7-79a1-4224-b7f0-68fb65cfe995",
   "metadata": {},
   "outputs": [
    {
     "data": {
      "text/plain": [
       "array([[0.       , 4.9765625, 0.       , 0.       , 0.       ],\n",
       "       [5.232422 , 0.       , 0.       , 0.       , 5.4765625],\n",
       "       [0.       , 0.       , 0.       , 5.6103516, 0.       ],\n",
       "       [0.       , 0.       , 5.732422 , 0.       , 0.       ]],\n",
       "      dtype=float32)"
      ]
     },
     "execution_count": 125,
     "metadata": {},
     "output_type": "execute_result"
    }
   ],
   "source": [
    "# 약어\n",
    "x = np.ndarray(shape=(4,5), dtype='f4')  # f4 -> float 4btye\n",
    "x"
   ]
  },
  {
   "cell_type": "code",
   "execution_count": 126,
   "id": "973ab124-87c0-417d-8240-297cd3c056d1",
   "metadata": {},
   "outputs": [
    {
     "data": {
      "text/plain": [
       "(35,)"
      ]
     },
     "execution_count": 126,
     "metadata": {},
     "output_type": "execute_result"
    }
   ],
   "source": [
    "x = np.arange(30, 100, 2)\n",
    "x.shape"
   ]
  },
  {
   "cell_type": "code",
   "execution_count": 127,
   "id": "2db960aa-4c4d-4605-a24a-f8f91773241f",
   "metadata": {},
   "outputs": [
    {
     "data": {
      "text/plain": [
       "array([30, 32, 34, 36, 38, 40, 42, 44, 46, 48, 50, 52, 54, 56, 58, 60, 62,\n",
       "       64, 66, 68, 70, 72, 74, 76, 78, 80, 82, 84, 86, 88, 90, 92, 94, 96,\n",
       "       98])"
      ]
     },
     "execution_count": 127,
     "metadata": {},
     "output_type": "execute_result"
    }
   ],
   "source": [
    "x"
   ]
  },
  {
   "cell_type": "code",
   "execution_count": 128,
   "id": "29c52185-f6b6-47f7-a39d-1db6edbfa2a2",
   "metadata": {},
   "outputs": [
    {
     "data": {
      "text/plain": [
       "dtype('int32')"
      ]
     },
     "execution_count": 128,
     "metadata": {},
     "output_type": "execute_result"
    }
   ],
   "source": [
    "x.dtype"
   ]
  },
  {
   "cell_type": "code",
   "execution_count": 117,
   "id": "03950f30-4a6b-4ed0-b51d-c1f03d14f73e",
   "metadata": {},
   "outputs": [
    {
     "data": {
      "text/plain": [
       "1"
      ]
     },
     "execution_count": 117,
     "metadata": {},
     "output_type": "execute_result"
    }
   ],
   "source": [
    "x.ndim"
   ]
  },
  {
   "cell_type": "markdown",
   "id": "f1b05f67-e14d-4c1b-a138-f8eca42eb1e0",
   "metadata": {},
   "source": [
    "# slicing\n",
    " - 전통적 : index, slicing\n",
    " - fancy\n",
    " - boolean"
   ]
  },
  {
   "cell_type": "code",
   "execution_count": 129,
   "id": "0b6f9ea5-b36b-4009-9996-6a4388327ec6",
   "metadata": {},
   "outputs": [
    {
     "data": {
      "text/plain": [
       "30"
      ]
     },
     "execution_count": 129,
     "metadata": {},
     "output_type": "execute_result"
    }
   ],
   "source": [
    "# 전통적인 방법\n",
    "x[0]"
   ]
  },
  {
   "cell_type": "code",
   "execution_count": 20,
   "id": "25da35c7-6d73-4c10-a322-af2d77f7c40b",
   "metadata": {},
   "outputs": [
    {
     "data": {
      "text/plain": [
       "array([30, 32, 34, 36, 38])"
      ]
     },
     "execution_count": 20,
     "metadata": {},
     "output_type": "execute_result"
    }
   ],
   "source": [
    "x[0:5]"
   ]
  },
  {
   "cell_type": "code",
   "execution_count": 21,
   "id": "edc534b8-6969-45b3-ad18-30dc591b79e4",
   "metadata": {},
   "outputs": [
    {
     "data": {
      "text/plain": [
       "array([30, 32, 34, 36, 38, 40, 42, 44, 46, 48, 50, 52, 54, 56, 58, 60, 62,\n",
       "       64, 66, 68, 70, 72, 74, 76, 78, 80, 82, 84, 86, 88])"
      ]
     },
     "execution_count": 21,
     "metadata": {},
     "output_type": "execute_result"
    }
   ],
   "source": [
    "x[:-5]"
   ]
  },
  {
   "cell_type": "code",
   "execution_count": 22,
   "id": "7724f1e7-c71e-4a36-8830-54918c61aa29",
   "metadata": {},
   "outputs": [
    {
     "data": {
      "text/plain": [
       "array([80, 82, 84, 86, 88, 90, 92, 94, 96, 98])"
      ]
     },
     "execution_count": 22,
     "metadata": {},
     "output_type": "execute_result"
    }
   ],
   "source": [
    "x[-10:]"
   ]
  },
  {
   "cell_type": "code",
   "execution_count": 23,
   "id": "f0479211-c110-4978-a3fc-7eb9b3fe55dd",
   "metadata": {},
   "outputs": [
    {
     "data": {
      "text/plain": [
       "-30"
      ]
     },
     "execution_count": 23,
     "metadata": {},
     "output_type": "execute_result"
    }
   ],
   "source": [
    "x[0] = -30.1\n",
    "x[0]"
   ]
  },
  {
   "cell_type": "code",
   "execution_count": 25,
   "id": "867eaba8-918b-4b74-85a0-51f9596a2587",
   "metadata": {},
   "outputs": [
    {
     "data": {
      "text/plain": [
       "array([-1, -2, 34, 36, 38])"
      ]
     },
     "execution_count": 25,
     "metadata": {},
     "output_type": "execute_result"
    }
   ],
   "source": [
    "x[0:2] = [-1.0, -2.0]\n",
    "x[:5]"
   ]
  },
  {
   "cell_type": "code",
   "execution_count": 26,
   "id": "69408034-469c-4e2c-bc04-305ec59c18e5",
   "metadata": {},
   "outputs": [
    {
     "data": {
      "text/plain": [
       "array([36, 38, 80, 60])"
      ]
     },
     "execution_count": 26,
     "metadata": {},
     "output_type": "execute_result"
    }
   ],
   "source": [
    "# fancy\n",
    "x[[3, 4, -10, -20]]  # index position"
   ]
  },
  {
   "cell_type": "code",
   "execution_count": 27,
   "id": "4399bc7b-37f4-46bb-85df-4feb185c11c8",
   "metadata": {},
   "outputs": [
    {
     "data": {
      "text/plain": [
       "array([ True,  True, False, False, False, False, False, False, False,\n",
       "       False, False, False, False, False, False, False, False, False,\n",
       "       False, False, False, False, False, False, False, False, False,\n",
       "       False, False, False, False, False, False, False, False])"
      ]
     },
     "execution_count": 27,
     "metadata": {},
     "output_type": "execute_result"
    }
   ],
   "source": [
    "# boolean\n",
    "x < 10"
   ]
  },
  {
   "cell_type": "code",
   "execution_count": 28,
   "id": "c011ee2e-a28c-4458-8fb8-7ef52d2a89d5",
   "metadata": {},
   "outputs": [
    {
     "data": {
      "text/plain": [
       "array([-1, -2])"
      ]
     },
     "execution_count": 28,
     "metadata": {},
     "output_type": "execute_result"
    }
   ],
   "source": [
    "x[ x < 10 ]"
   ]
  },
  {
   "cell_type": "markdown",
   "id": "19d8915f-3d34-43ee-94a1-93e2d20d9760",
   "metadata": {},
   "source": [
    "## reshape"
   ]
  },
  {
   "cell_type": "code",
   "execution_count": 30,
   "id": "587ae2be-c927-4cbf-89f5-ce23205bcf77",
   "metadata": {},
   "outputs": [
    {
     "data": {
      "text/plain": [
       "(35,)"
      ]
     },
     "execution_count": 30,
     "metadata": {},
     "output_type": "execute_result"
    }
   ],
   "source": [
    "x.shape  # 1차원 배열 -> 벡터!!"
   ]
  },
  {
   "cell_type": "code",
   "execution_count": 130,
   "id": "addefc28-9b92-437c-bf3c-7bc0461c5913",
   "metadata": {},
   "outputs": [
    {
     "data": {
      "text/plain": [
       "array([[30, 32, 34, 36, 38, 40, 42, 44, 46, 48, 50, 52, 54, 56, 58, 60,\n",
       "        62, 64, 66, 68, 70, 72, 74, 76, 78, 80, 82, 84, 86, 88, 90, 92,\n",
       "        94, 96, 98]])"
      ]
     },
     "execution_count": 130,
     "metadata": {},
     "output_type": "execute_result"
    }
   ],
   "source": [
    "z = np.reshape(x, (1, 35))\n",
    "z"
   ]
  },
  {
   "cell_type": "code",
   "execution_count": 131,
   "id": "65bd73e4-0765-4516-b060-4d6d641612df",
   "metadata": {},
   "outputs": [
    {
     "data": {
      "text/plain": [
       "(1, 35)"
      ]
     },
     "execution_count": 131,
     "metadata": {},
     "output_type": "execute_result"
    }
   ],
   "source": [
    "z.shape"
   ]
  },
  {
   "cell_type": "code",
   "execution_count": 132,
   "id": "fad11e6f-ab83-46ca-8df8-b330dd6ba3b0",
   "metadata": {},
   "outputs": [
    {
     "data": {
      "text/plain": [
       "array([[30, 32, 34, 36, 38, 40, 42],\n",
       "       [44, 46, 48, 50, 52, 54, 56],\n",
       "       [58, 60, 62, 64, 66, 68, 70],\n",
       "       [72, 74, 76, 78, 80, 82, 84],\n",
       "       [86, 88, 90, 92, 94, 96, 98]])"
      ]
     },
     "execution_count": 132,
     "metadata": {},
     "output_type": "execute_result"
    }
   ],
   "source": [
    "z = np.reshape(x, (5, -1))\n",
    "z"
   ]
  },
  {
   "cell_type": "code",
   "execution_count": 133,
   "id": "bf637365-e98d-4ff3-b921-3c88fb69d48b",
   "metadata": {},
   "outputs": [
    {
     "data": {
      "text/plain": [
       "(5, 7)"
      ]
     },
     "execution_count": 133,
     "metadata": {},
     "output_type": "execute_result"
    }
   ],
   "source": [
    "z.shape"
   ]
  },
  {
   "cell_type": "code",
   "execution_count": 134,
   "id": "4899a45b-8108-4ac6-9ee1-e9cb4e5c6f64",
   "metadata": {},
   "outputs": [
    {
     "data": {
      "text/plain": [
       "array([[[30, 32, 34, 36, 38, 40, 42, 44, 46, 48, 50, 52, 54, 56, 58, 60,\n",
       "         62, 64, 66, 68, 70, 72, 74, 76, 78, 80, 82, 84, 86, 88, 90, 92,\n",
       "         94, 96, 98]]])"
      ]
     },
     "execution_count": 134,
     "metadata": {},
     "output_type": "execute_result"
    }
   ],
   "source": [
    "np.reshape(x, (1,1,-1))"
   ]
  },
  {
   "cell_type": "code",
   "execution_count": null,
   "id": "db259e8b-fa1b-4553-abc6-b3778caa2641",
   "metadata": {},
   "outputs": [],
   "source": []
  },
  {
   "cell_type": "markdown",
   "id": "debe8637-38ee-4551-b4be-7e50db20d2d8",
   "metadata": {},
   "source": [
    "## pickle 저장  \n",
    " - 파이썬의 다른 프로그램에서 사용할 수 있도록 저장"
   ]
  },
  {
   "cell_type": "code",
   "execution_count": 135,
   "id": "59edb1e8-128d-4618-8c10-34332a58edb6",
   "metadata": {},
   "outputs": [],
   "source": [
    "np.save('np_z', z)"
   ]
  },
  {
   "cell_type": "code",
   "execution_count": 136,
   "id": "fe4fb2c5-46c3-4bf1-a54e-a7cfea55f520",
   "metadata": {},
   "outputs": [
    {
     "name": "stdout",
     "output_type": "stream",
     "text": [
      " C 드라이브의 볼륨: Windows\n",
      " 볼륨 일련 번호: 8EF6-8BCC\n",
      "\n",
      " C:\\Users\\SBAUser\\jupyter-work 디렉터리\n",
      "\n",
      "2022-11-28  오전 11:41               268 np_z.npy\n",
      "2022-11-25  오후 02:21         8,000,128 npydata.npy\n",
      "               2개 파일           8,000,396 바이트\n",
      "               0개 디렉터리  407,142,588,416 바이트 남음\n"
     ]
    }
   ],
   "source": [
    "%ls *.npy"
   ]
  },
  {
   "cell_type": "code",
   "execution_count": 137,
   "id": "f1b6dec1-2ad2-4d22-8ebf-83bbf76964a6",
   "metadata": {
    "collapsed": true,
    "jupyter": {
     "outputs_hidden": true
    },
    "tags": []
   },
   "outputs": [
    {
     "name": "stdout",
     "output_type": "stream",
     "text": [
      "밡UMPY\u0001\n",
      "v\n",
      "{'descr': '<i4', 'fortran_order': False, 'shape': (5, 7), }                                                          \n",
      "\u001e",
      "\n",
      "\n",
      "\n",
      " \n",
      "\n",
      "\n",
      "\"\n",
      "\n",
      "\n",
      "$\n",
      "\n",
      "\n",
      "&\n",
      "\n",
      "\n",
      "(\n",
      "\n",
      "\n",
      "*\n",
      "\n",
      "\n",
      ",\n",
      "\n",
      "\n",
      ".\n",
      "\n",
      "\n",
      "0\n",
      "\n",
      "\n",
      "2\n",
      "\n",
      "\n",
      "4\n",
      "\n",
      "\n",
      "6\n",
      "\n",
      "\n",
      "8\n",
      "\n",
      "\n",
      ":\n",
      "\n",
      "\n",
      "<\n",
      "\n",
      "\n",
      ">\n",
      "\n",
      "\n",
      "@\n",
      "\n",
      "\n",
      "B\n",
      "\n",
      "\n",
      "D\n",
      "\n",
      "\n",
      "F\n",
      "\n",
      "\n",
      "H\n",
      "\n",
      "\n",
      "J\n",
      "\n",
      "\n",
      "L\n",
      "\n",
      "\n",
      "N\n",
      "\n",
      "\n",
      "P\n",
      "\n",
      "\n",
      "R\n",
      "\n",
      "\n",
      "T\n",
      "\n",
      "\n",
      "V\n",
      "\n",
      "\n",
      "X\n",
      "\n",
      "\n",
      "Z\n",
      "\n",
      "\n",
      "\\\n",
      "\n",
      "\n",
      "^\n",
      "\n",
      "\n",
      "`\n",
      "\n",
      "\n",
      "b\n",
      "\n",
      "\n"
     ]
    }
   ],
   "source": [
    "!more np_z.npy"
   ]
  },
  {
   "cell_type": "code",
   "execution_count": 138,
   "id": "5a75937e-d48f-4e37-8c7d-e36ce3ee308b",
   "metadata": {},
   "outputs": [],
   "source": [
    "k = np.load('np_z.npy')   # dump"
   ]
  },
  {
   "cell_type": "code",
   "execution_count": 139,
   "id": "544a2fcb-b458-4b77-8bd6-3e532d8394dc",
   "metadata": {},
   "outputs": [
    {
     "data": {
      "text/plain": [
       "numpy.ndarray"
      ]
     },
     "execution_count": 139,
     "metadata": {},
     "output_type": "execute_result"
    }
   ],
   "source": [
    "type(k)"
   ]
  },
  {
   "cell_type": "code",
   "execution_count": 140,
   "id": "9c528d58-d8b4-4bab-9b9b-ffbc6acbedab",
   "metadata": {},
   "outputs": [
    {
     "data": {
      "text/plain": [
       "(5, 7)"
      ]
     },
     "execution_count": 140,
     "metadata": {},
     "output_type": "execute_result"
    }
   ],
   "source": [
    "k.shape"
   ]
  },
  {
   "cell_type": "code",
   "execution_count": 141,
   "id": "dca0f6a1-272c-434e-9305-eceb16640993",
   "metadata": {},
   "outputs": [
    {
     "data": {
      "text/plain": [
       "array([[30, 32, 34, 36, 38, 40, 42],\n",
       "       [44, 46, 48, 50, 52, 54, 56],\n",
       "       [58, 60, 62, 64, 66, 68, 70],\n",
       "       [72, 74, 76, 78, 80, 82, 84],\n",
       "       [86, 88, 90, 92, 94, 96, 98]])"
      ]
     },
     "execution_count": 141,
     "metadata": {},
     "output_type": "execute_result"
    }
   ],
   "source": [
    "k[:10]"
   ]
  },
  {
   "cell_type": "markdown",
   "id": "dbb810c5-2324-4e40-ba20-9915c4b46b7d",
   "metadata": {},
   "source": [
    "# Pandas\n",
    " - Series\n",
    " - DataFrame : 행/열에 Series"
   ]
  },
  {
   "cell_type": "code",
   "execution_count": 51,
   "id": "a2ce48ea-bc56-48f9-8439-0030e03d42d3",
   "metadata": {},
   "outputs": [],
   "source": [
    "import pandas as pd "
   ]
  },
  {
   "cell_type": "code",
   "execution_count": 52,
   "id": "23af60f2-f886-4ff6-9584-d6698f6f5d6e",
   "metadata": {},
   "outputs": [
    {
     "data": {
      "text/plain": [
       "0    10\n",
       "1    20\n",
       "2    30\n",
       "3    40\n",
       "dtype: int64"
      ]
     },
     "execution_count": 52,
     "metadata": {},
     "output_type": "execute_result"
    }
   ],
   "source": [
    "s = pd.Series([10, 20, 30, 40]) # index + value\n",
    "s"
   ]
  },
  {
   "cell_type": "code",
   "execution_count": 54,
   "id": "fbd9ef88-038e-49da-b783-a9578ef0e24b",
   "metadata": {},
   "outputs": [
    {
     "data": {
      "text/plain": [
       "0     안녕\n",
       "1    하세요\n",
       "2    여러분\n",
       "dtype: object"
      ]
     },
     "execution_count": 54,
     "metadata": {},
     "output_type": "execute_result"
    }
   ],
   "source": [
    "s = pd.Series(('안녕', '하세요', '여러분'))\n",
    "s"
   ]
  },
  {
   "cell_type": "code",
   "execution_count": 55,
   "id": "cb496a30-0e72-4d13-807a-43c32dd19885",
   "metadata": {},
   "outputs": [
    {
     "data": {
      "text/plain": [
       "((3,), dtype('O'), 1, 3)"
      ]
     },
     "execution_count": 55,
     "metadata": {},
     "output_type": "execute_result"
    }
   ],
   "source": [
    "s.shape, s.dtype, s.ndim, s.size"
   ]
  },
  {
   "cell_type": "code",
   "execution_count": 56,
   "id": "9332d77a-db7d-47b9-9451-d8322e108c5a",
   "metadata": {
    "collapsed": true,
    "jupyter": {
     "outputs_hidden": true
    },
    "tags": []
   },
   "outputs": [
    {
     "data": {
      "text/plain": [
       "0      1\n",
       "1      2\n",
       "2      3\n",
       "3      4\n",
       "4      5\n",
       "5      6\n",
       "6      7\n",
       "7      8\n",
       "8      9\n",
       "9     10\n",
       "10    11\n",
       "11    12\n",
       "12    13\n",
       "13    14\n",
       "14    15\n",
       "15    16\n",
       "16    17\n",
       "17    18\n",
       "18    19\n",
       "dtype: int32"
      ]
     },
     "execution_count": 56,
     "metadata": {},
     "output_type": "execute_result"
    }
   ],
   "source": [
    "pd.Series( np.arange(1,20) )"
   ]
  },
  {
   "cell_type": "code",
   "execution_count": 64,
   "id": "88832033-6847-4c5c-8ca3-32838f69645f",
   "metadata": {
    "tags": []
   },
   "outputs": [
    {
     "data": {
      "text/plain": [
       "1    20000\n",
       "2    30000\n",
       "3    40000\n",
       "dtype: int64"
      ]
     },
     "execution_count": 64,
     "metadata": {},
     "output_type": "execute_result"
    }
   ],
   "source": [
    "a = pd.Series( {'1': 20000, '2':30000, '3':40000} ) # dic의 key값이 index로 지정\n",
    "a"
   ]
  },
  {
   "cell_type": "code",
   "execution_count": 65,
   "id": "dd03b5ed-b535-4999-901e-a8baadf5a5cf",
   "metadata": {
    "tags": []
   },
   "outputs": [
    {
     "data": {
      "text/plain": [
       "a    20000\n",
       "b    30000\n",
       "c    40000\n",
       "dtype: int64"
      ]
     },
     "execution_count": 65,
     "metadata": {},
     "output_type": "execute_result"
    }
   ],
   "source": [
    "b = pd.Series( {'a': 20000, 'b':30000, 'c':40000} ) # dic의 key값이 index로 지정\n",
    "b"
   ]
  },
  {
   "cell_type": "code",
   "execution_count": 67,
   "id": "76f66e4d-f202-4300-bb31-9cb20fc8d635",
   "metadata": {},
   "outputs": [
    {
     "data": {
      "text/plain": [
       "1   NaN\n",
       "2   NaN\n",
       "3   NaN\n",
       "a   NaN\n",
       "b   NaN\n",
       "c   NaN\n",
       "dtype: float64"
      ]
     },
     "execution_count": 67,
     "metadata": {},
     "output_type": "execute_result"
    }
   ],
   "source": [
    "# broadcast 연산, element wide 연산 -> 모든 요소의 위치(index)끼리 연산\n",
    "a + b         #  index가 다르기 때문 "
   ]
  },
  {
   "cell_type": "code",
   "execution_count": null,
   "id": "e8a0539e-6a92-45d9-8d22-cca996d7c9eb",
   "metadata": {},
   "outputs": [],
   "source": []
  },
  {
   "cell_type": "code",
   "execution_count": 72,
   "id": "8fff407f-ed9f-4ad6-94d3-caca48593103",
   "metadata": {
    "tags": []
   },
   "outputs": [],
   "source": [
    "a = pd.Series( {'1': 20000, '2':30000, '3':40000} ) "
   ]
  },
  {
   "cell_type": "code",
   "execution_count": 73,
   "id": "4dccb40b-1bb2-4399-bee3-6d2cace012ce",
   "metadata": {
    "tags": []
   },
   "outputs": [],
   "source": [
    "b = pd.Series( {'1': 20000, '2':30000, '3':40000, '4': 50000} ) "
   ]
  },
  {
   "cell_type": "code",
   "execution_count": 75,
   "id": "c2715da4-fc72-4598-a038-975217b07e20",
   "metadata": {},
   "outputs": [
    {
     "data": {
      "text/plain": [
       "(1    40000.0\n",
       " 2    60000.0\n",
       " 3    80000.0\n",
       " 4        NaN\n",
       " dtype: float64,\n",
       " 1    40000.0\n",
       " 2    60000.0\n",
       " 3    80000.0\n",
       " 4        NaN\n",
       " dtype: float64)"
      ]
     },
     "execution_count": 75,
     "metadata": {},
     "output_type": "execute_result"
    }
   ],
   "source": [
    "a + b, b + a"
   ]
  },
  {
   "cell_type": "code",
   "execution_count": 76,
   "id": "8ae78d10-f4f0-4766-a427-d7f3a3592c84",
   "metadata": {},
   "outputs": [
    {
     "data": {
      "text/plain": [
       "1    1.0\n",
       "2    1.0\n",
       "3    1.0\n",
       "4    NaN\n",
       "dtype: float64"
      ]
     },
     "execution_count": 76,
     "metadata": {},
     "output_type": "execute_result"
    }
   ],
   "source": [
    "a / b"
   ]
  },
  {
   "cell_type": "code",
   "execution_count": 77,
   "id": "c35f66e1-810e-4f45-ac96-1d6e623c85c4",
   "metadata": {},
   "outputs": [
    {
     "data": {
      "text/plain": [
       "1    4.000000e+08\n",
       "2    9.000000e+08\n",
       "3    1.600000e+09\n",
       "4             NaN\n",
       "dtype: float64"
      ]
     },
     "execution_count": 77,
     "metadata": {},
     "output_type": "execute_result"
    }
   ],
   "source": [
    "a * b"
   ]
  },
  {
   "cell_type": "code",
   "execution_count": 80,
   "id": "d792de56-6cf9-4c45-a423-cd123a71e03d",
   "metadata": {},
   "outputs": [
    {
     "data": {
      "text/plain": [
       "1    40000.0\n",
       "2    60000.0\n",
       "3    80000.0\n",
       "4        NaN\n",
       "dtype: float64"
      ]
     },
     "execution_count": 80,
     "metadata": {},
     "output_type": "execute_result"
    }
   ],
   "source": [
    "a.add(b)  # a + b 와 같은 결과"
   ]
  },
  {
   "cell_type": "markdown",
   "id": "0addc7f3-7d9a-49f0-8829-2a7d31bd0eb8",
   "metadata": {},
   "source": [
    "## 연산시 nan 처리\n",
    " - fill_value : 연산시 nan 채우고 연산!\n",
    " - Series/DataFrame.fillna() : 데이터의 nan을 어떤 값으로 채움"
   ]
  },
  {
   "cell_type": "code",
   "execution_count": 98,
   "id": "47b42ed9-1bf1-4fcb-b86f-31734945b54b",
   "metadata": {},
   "outputs": [
    {
     "data": {
      "text/plain": [
       "1    40000.0\n",
       "2    60000.0\n",
       "3    80000.0\n",
       "4    50000.0\n",
       "dtype: float64"
      ]
     },
     "execution_count": 98,
     "metadata": {},
     "output_type": "execute_result"
    }
   ],
   "source": [
    "a1 = a.add(b, fill_value=0)  # 비어있는  a의 nan을 0으로 채운 후 연산\n",
    "a1"
   ]
  },
  {
   "cell_type": "code",
   "execution_count": 83,
   "id": "0c5836d5-693f-4013-86e9-c3811d1a2daa",
   "metadata": {},
   "outputs": [],
   "source": [
    "a2 = a + b"
   ]
  },
  {
   "cell_type": "code",
   "execution_count": 97,
   "id": "33e29bcc-5582-4dc1-b01e-3ddb6c692b7a",
   "metadata": {},
   "outputs": [
    {
     "data": {
      "text/plain": [
       "1    40000.0\n",
       "2    60000.0\n",
       "3    80000.0\n",
       "4        0.0\n",
       "dtype: float64"
      ]
     },
     "execution_count": 97,
     "metadata": {},
     "output_type": "execute_result"
    }
   ],
   "source": [
    "a2.fillna(0)   # 연산 후 나온 nan 값을 0으로 채움"
   ]
  },
  {
   "cell_type": "code",
   "execution_count": 90,
   "id": "892f8305-fb7a-4601-837f-df0a338e5aa7",
   "metadata": {},
   "outputs": [
    {
     "data": {
      "text/plain": [
       "(1    40000.0\n",
       " 2    60000.0\n",
       " 3    80000.0\n",
       " 4    50000.0\n",
       " dtype: float64,\n",
       " 1    40000.0\n",
       " 2    60000.0\n",
       " 3    80000.0\n",
       " 4        NaN\n",
       " dtype: float64)"
      ]
     },
     "execution_count": 90,
     "metadata": {},
     "output_type": "execute_result"
    }
   ],
   "source": [
    "a1, a2"
   ]
  },
  {
   "cell_type": "code",
   "execution_count": 91,
   "id": "235ee8dd-2d45-4305-8a57-1d92880d383f",
   "metadata": {},
   "outputs": [
    {
     "data": {
      "text/plain": [
       "(57500.0, 60000.0)"
      ]
     },
     "execution_count": 91,
     "metadata": {},
     "output_type": "execute_result"
    }
   ],
   "source": [
    "a1.mean(), a2.mean()"
   ]
  },
  {
   "cell_type": "code",
   "execution_count": 92,
   "id": "b3a7fd1f-63e5-425b-9441-6e7f4ecbb622",
   "metadata": {},
   "outputs": [],
   "source": [
    "a3 = a + b"
   ]
  },
  {
   "cell_type": "code",
   "execution_count": 93,
   "id": "5e9752ad-bcd6-43b6-b562-8c20822f5ddf",
   "metadata": {},
   "outputs": [
    {
     "data": {
      "text/plain": [
       "1    40000.0\n",
       "2    60000.0\n",
       "3    80000.0\n",
       "4        NaN\n",
       "dtype: float64"
      ]
     },
     "execution_count": 93,
     "metadata": {},
     "output_type": "execute_result"
    }
   ],
   "source": [
    "a3"
   ]
  },
  {
   "cell_type": "code",
   "execution_count": 103,
   "id": "6d4e3b3b-020a-4114-a9ed-2b1a58790179",
   "metadata": {},
   "outputs": [
    {
     "data": {
      "text/plain": [
       "1    40000.0\n",
       "2    60000.0\n",
       "3    80000.0\n",
       "4        0.0\n",
       "dtype: float64"
      ]
     },
     "execution_count": 103,
     "metadata": {},
     "output_type": "execute_result"
    }
   ],
   "source": [
    "a3.fillna(0)"
   ]
  },
  {
   "cell_type": "code",
   "execution_count": 104,
   "id": "d19bae3a-93da-4872-862c-8ef96e4b8bf3",
   "metadata": {},
   "outputs": [
    {
     "data": {
      "text/plain": [
       "1    40000.0\n",
       "2    60000.0\n",
       "3    80000.0\n",
       "4        0.0\n",
       "dtype: float64"
      ]
     },
     "execution_count": 104,
     "metadata": {},
     "output_type": "execute_result"
    }
   ],
   "source": [
    "a3.fillna(0, inplace=True)  \n",
    "a3"
   ]
  },
  {
   "cell_type": "markdown",
   "id": "86cd4b37-4833-4d54-b04b-3d53197e4f05",
   "metadata": {},
   "source": [
    "# Series 인덱싱\n",
    " - 전통적 `[]` 연산자\n",
    " - iloc\n",
    " - loc"
   ]
  },
  {
   "cell_type": "code",
   "execution_count": 105,
   "id": "ffaff52d-1573-49c9-a59d-71ff04d7ccc2",
   "metadata": {},
   "outputs": [
    {
     "data": {
      "text/plain": [
       "서울    2000\n",
       "대구    3000\n",
       "부산    4000\n",
       "광주    5000\n",
       "대전    6000\n",
       "dtype: int64"
      ]
     },
     "execution_count": 105,
     "metadata": {},
     "output_type": "execute_result"
    }
   ],
   "source": [
    "s = pd.Series({'서울': 2000, '대구' : 3000, '부산' : 4000, '광주' : 5000, '대전' : 6000})\n",
    "s"
   ]
  },
  {
   "cell_type": "code",
   "execution_count": 107,
   "id": "b7ae3068-801c-467c-8583-a6f03ccb7262",
   "metadata": {},
   "outputs": [
    {
     "data": {
      "text/plain": [
       "(2000,\n",
       " 서울    2000\n",
       " 대구    3000\n",
       " dtype: int64,\n",
       " 서울    2000\n",
       " 대구    3000\n",
       " 부산    4000\n",
       " dtype: int64,\n",
       " 부산    4000\n",
       " 광주    5000\n",
       " 대전    6000\n",
       " dtype: int64)"
      ]
     },
     "execution_count": 107,
     "metadata": {},
     "output_type": "execute_result"
    }
   ],
   "source": [
    "# index position\n",
    "s[0], s[0:2], s[:-2], s[-3:]"
   ]
  },
  {
   "cell_type": "code",
   "execution_count": 108,
   "id": "45db612a-a1df-4383-92c1-5185b9987f27",
   "metadata": {},
   "outputs": [
    {
     "data": {
      "text/plain": [
       "Index(['서울', '대구', '부산', '광주', '대전'], dtype='object')"
      ]
     },
     "execution_count": 108,
     "metadata": {},
     "output_type": "execute_result"
    }
   ],
   "source": [
    "s.index"
   ]
  },
  {
   "cell_type": "code",
   "execution_count": 109,
   "id": "6fa735c8-a3d1-40da-8bb1-65522a57e39e",
   "metadata": {},
   "outputs": [
    {
     "data": {
      "text/plain": [
       "(2000,\n",
       " 서울    2000\n",
       " 대구    3000\n",
       " 부산    4000\n",
       " dtype: int64)"
      ]
     },
     "execution_count": 109,
     "metadata": {},
     "output_type": "execute_result"
    }
   ],
   "source": [
    "s['서울'], s['서울':'부산']"
   ]
  },
  {
   "cell_type": "code",
   "execution_count": 111,
   "id": "b0fa8fae-bebc-4aac-89b8-ad1ebba6a6fa",
   "metadata": {},
   "outputs": [
    {
     "ename": "KeyError",
     "evalue": "'key of type tuple not found and not a MultiIndex'",
     "output_type": "error",
     "traceback": [
      "\u001b[1;31m---------------------------------------------------------------------------\u001b[0m",
      "\u001b[1;31mKeyError\u001b[0m                                  Traceback (most recent call last)",
      "Cell \u001b[1;32mIn [111], line 1\u001b[0m\n\u001b[1;32m----> 1\u001b[0m \u001b[43ms\u001b[49m\u001b[43m \u001b[49m\u001b[43m[\u001b[49m\u001b[43m \u001b[49m\u001b[43m:\u001b[49m\u001b[43m,\u001b[49m\u001b[43m \u001b[49m\u001b[43m:\u001b[49m\u001b[43m \u001b[49m\u001b[43m]\u001b[49m  \u001b[38;5;66;03m# 1차원 데이터\u001b[39;00m\n",
      "File \u001b[1;32m~\\.venv\\Second_day\\lib\\site-packages\\pandas\\core\\series.py:1007\u001b[0m, in \u001b[0;36mSeries.__getitem__\u001b[1;34m(self, key)\u001b[0m\n\u001b[0;32m   1004\u001b[0m     key \u001b[38;5;241m=\u001b[39m np\u001b[38;5;241m.\u001b[39masarray(key, dtype\u001b[38;5;241m=\u001b[39m\u001b[38;5;28mbool\u001b[39m)\n\u001b[0;32m   1005\u001b[0m     \u001b[38;5;28;01mreturn\u001b[39;00m \u001b[38;5;28mself\u001b[39m\u001b[38;5;241m.\u001b[39m_get_values(key)\n\u001b[1;32m-> 1007\u001b[0m \u001b[38;5;28;01mreturn\u001b[39;00m \u001b[38;5;28;43mself\u001b[39;49m\u001b[38;5;241;43m.\u001b[39;49m\u001b[43m_get_with\u001b[49m\u001b[43m(\u001b[49m\u001b[43mkey\u001b[49m\u001b[43m)\u001b[49m\n",
      "File \u001b[1;32m~\\.venv\\Second_day\\lib\\site-packages\\pandas\\core\\series.py:1022\u001b[0m, in \u001b[0;36mSeries._get_with\u001b[1;34m(self, key)\u001b[0m\n\u001b[0;32m   1017\u001b[0m     \u001b[38;5;28;01mraise\u001b[39;00m \u001b[38;5;167;01mTypeError\u001b[39;00m(\n\u001b[0;32m   1018\u001b[0m         \u001b[38;5;124m\"\u001b[39m\u001b[38;5;124mIndexing a Series with DataFrame is not \u001b[39m\u001b[38;5;124m\"\u001b[39m\n\u001b[0;32m   1019\u001b[0m         \u001b[38;5;124m\"\u001b[39m\u001b[38;5;124msupported, use the appropriate DataFrame column\u001b[39m\u001b[38;5;124m\"\u001b[39m\n\u001b[0;32m   1020\u001b[0m     )\n\u001b[0;32m   1021\u001b[0m \u001b[38;5;28;01melif\u001b[39;00m \u001b[38;5;28misinstance\u001b[39m(key, \u001b[38;5;28mtuple\u001b[39m):\n\u001b[1;32m-> 1022\u001b[0m     \u001b[38;5;28;01mreturn\u001b[39;00m \u001b[38;5;28;43mself\u001b[39;49m\u001b[38;5;241;43m.\u001b[39;49m\u001b[43m_get_values_tuple\u001b[49m\u001b[43m(\u001b[49m\u001b[43mkey\u001b[49m\u001b[43m)\u001b[49m\n\u001b[0;32m   1024\u001b[0m \u001b[38;5;28;01melif\u001b[39;00m \u001b[38;5;129;01mnot\u001b[39;00m is_list_like(key):\n\u001b[0;32m   1025\u001b[0m     \u001b[38;5;66;03m# e.g. scalars that aren't recognized by lib.is_scalar, GH#32684\u001b[39;00m\n\u001b[0;32m   1026\u001b[0m     \u001b[38;5;28;01mreturn\u001b[39;00m \u001b[38;5;28mself\u001b[39m\u001b[38;5;241m.\u001b[39mloc[key]\n",
      "File \u001b[1;32m~\\.venv\\Second_day\\lib\\site-packages\\pandas\\core\\series.py:1060\u001b[0m, in \u001b[0;36mSeries._get_values_tuple\u001b[1;34m(self, key)\u001b[0m\n\u001b[0;32m   1057\u001b[0m     \u001b[38;5;28;01mreturn\u001b[39;00m result\n\u001b[0;32m   1059\u001b[0m \u001b[38;5;28;01mif\u001b[39;00m \u001b[38;5;129;01mnot\u001b[39;00m \u001b[38;5;28misinstance\u001b[39m(\u001b[38;5;28mself\u001b[39m\u001b[38;5;241m.\u001b[39mindex, MultiIndex):\n\u001b[1;32m-> 1060\u001b[0m     \u001b[38;5;28;01mraise\u001b[39;00m \u001b[38;5;167;01mKeyError\u001b[39;00m(\u001b[38;5;124m\"\u001b[39m\u001b[38;5;124mkey of type tuple not found and not a MultiIndex\u001b[39m\u001b[38;5;124m\"\u001b[39m)\n\u001b[0;32m   1062\u001b[0m \u001b[38;5;66;03m# If key is contained, would have returned by now\u001b[39;00m\n\u001b[0;32m   1063\u001b[0m indexer, new_index \u001b[38;5;241m=\u001b[39m \u001b[38;5;28mself\u001b[39m\u001b[38;5;241m.\u001b[39mindex\u001b[38;5;241m.\u001b[39mget_loc_level(key)\n",
      "\u001b[1;31mKeyError\u001b[0m: 'key of type tuple not found and not a MultiIndex'"
     ]
    }
   ],
   "source": [
    "s [ :, : ]  # 1차원 데이터"
   ]
  },
  {
   "cell_type": "code",
   "execution_count": null,
   "id": "f09f8431-b8ed-4f75-8b04-0a128f19b1d8",
   "metadata": {},
   "outputs": [],
   "source": []
  },
  {
   "cell_type": "code",
   "execution_count": null,
   "id": "c141fb72-1709-4827-a78d-3c29dbbb02a1",
   "metadata": {},
   "outputs": [],
   "source": []
  }
 ],
 "metadata": {
  "kernelspec": {
   "display_name": "Python 3 (ipykernel)",
   "language": "python",
   "name": "python3"
  },
  "language_info": {
   "codemirror_mode": {
    "name": "ipython",
    "version": 3
   },
   "file_extension": ".py",
   "mimetype": "text/x-python",
   "name": "python",
   "nbconvert_exporter": "python",
   "pygments_lexer": "ipython3",
   "version": "3.9.13"
  }
 },
 "nbformat": 4,
 "nbformat_minor": 5
}
