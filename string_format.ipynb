{
 "cells": [
  {
   "cell_type": "code",
   "execution_count": 1,
   "id": "91455774-16d7-40e8-b736-6dfd8980d96b",
   "metadata": {},
   "outputs": [
    {
     "data": {
      "text/plain": [
       "'문자열 a 10 9.900000'"
      ]
     },
     "execution_count": 1,
     "metadata": {},
     "output_type": "execute_result"
    }
   ],
   "source": [
    "\"문자열 %s %d %f\"  % ('a', 10, 9.9)"
   ]
  },
  {
   "cell_type": "code",
   "execution_count": 2,
   "id": "1372d9ac-f107-4af8-a57d-8b35819923c8",
   "metadata": {},
   "outputs": [
    {
     "data": {
      "text/plain": [
       "'문자열          a         10       9.90'"
      ]
     },
     "execution_count": 2,
     "metadata": {},
     "output_type": "execute_result"
    }
   ],
   "source": [
    "\"문자열 %10s %10d %10.2f\"  % ('a', 10, 9.9)"
   ]
  },
  {
   "cell_type": "code",
   "execution_count": null,
   "id": "fecab0ec-0544-43a5-a2bb-c4417e46162a",
   "metadata": {},
   "outputs": [],
   "source": []
  },
  {
   "cell_type": "markdown",
   "id": "89112088-227e-472a-862c-bde465167677",
   "metadata": {},
   "source": [
    "# str.format()"
   ]
  },
  {
   "cell_type": "code",
   "execution_count": 3,
   "id": "b12e4eba-a7ba-4ee2-ac5a-f548ea023b56",
   "metadata": {},
   "outputs": [
    {
     "data": {
      "text/plain": [
       "'문자열 가나다               150       9.90'"
      ]
     },
     "execution_count": 3,
     "metadata": {},
     "output_type": "execute_result"
    }
   ],
   "source": [
    "\"문자열 {:10s} {:10d} {:10.2f}\".format('가나다', 150, 9.9)"
   ]
  },
  {
   "cell_type": "code",
   "execution_count": 4,
   "id": "b845a680-abc7-4721-b1e0-bec459f1b0c9",
   "metadata": {},
   "outputs": [
    {
     "data": {
      "text/plain": [
       "'영어점수: 100점, 수학점수: 90점'"
      ]
     },
     "execution_count": 4,
     "metadata": {},
     "output_type": "execute_result"
    }
   ],
   "source": [
    "\"{a}점수: {x}점, {b}점수: {y}점\".format(a=\"영어\", b=\"수학\", x=100, y=90)"
   ]
  },
  {
   "cell_type": "markdown",
   "id": "c8f2649d-32c7-41b4-b9b4-ded8daa65731",
   "metadata": {},
   "source": [
    "# f문자열"
   ]
  },
  {
   "cell_type": "code",
   "execution_count": null,
   "id": "9c4c4d01-ccbb-417b-9f3a-4a839ba80851",
   "metadata": {},
   "outputs": [],
   "source": []
  },
  {
   "cell_type": "code",
   "execution_count": 5,
   "id": "3ce7541e-5fb6-4423-a9ec-873d711823de",
   "metadata": {},
   "outputs": [
    {
     "data": {
      "text/plain": [
       "'문자열 가나다               150       9.90'"
      ]
     },
     "execution_count": 5,
     "metadata": {},
     "output_type": "execute_result"
    }
   ],
   "source": [
    "f\"문자열 {'가나다':10s} {150:10d} {9.9:10.2f}\""
   ]
  },
  {
   "cell_type": "code",
   "execution_count": 6,
   "id": "482d701c-5595-4ec1-ab37-28c454f560a6",
   "metadata": {},
   "outputs": [
    {
     "data": {
      "text/plain": [
       "'문자열 가나다               150       9.90'"
      ]
     },
     "execution_count": 6,
     "metadata": {},
     "output_type": "execute_result"
    }
   ],
   "source": [
    "s = '가나다'\n",
    "d = 150\n",
    "f = 9.9\n",
    "f\"문자열 {s:10s} {d:10d} {f:10.2f}\""
   ]
  }
 ],
 "metadata": {
  "kernelspec": {
   "display_name": "Python 3 (ipykernel)",
   "language": "python",
   "name": "python3"
  },
  "language_info": {
   "codemirror_mode": {
    "name": "ipython",
    "version": 3
   },
   "file_extension": ".py",
   "mimetype": "text/x-python",
   "name": "python",
   "nbconvert_exporter": "python",
   "pygments_lexer": "ipython3",
   "version": "3.10.3"
  }
 },
 "nbformat": 4,
 "nbformat_minor": 5
}
